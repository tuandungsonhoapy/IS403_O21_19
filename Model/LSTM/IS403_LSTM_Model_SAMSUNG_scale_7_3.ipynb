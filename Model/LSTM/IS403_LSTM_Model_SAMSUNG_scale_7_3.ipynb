{
  "cells": [
    {
      "cell_type": "code",
      "source": [
        "\n",
        "import numpy as np\n",
        "import pandas as pd\n",
        "import matplotlib.pyplot as plt\n",
        "from sklearn.preprocessing import MinMaxScaler\n",
        "from keras.models import Sequential\n",
        "from keras.layers import Dense, LSTM"
      ],
      "metadata": {
        "id": "FMDKda-XIUAK"
      },
      "execution_count": 41,
      "outputs": []
    },
    {
      "cell_type": "code",
      "source": [
        "df = pd.read_csv('/content/SAMSUNG.csv')\n",
        "df1=df.reset_index()['Close']"
      ],
      "metadata": {
        "id": "Qks3MuwbWZ_W"
      },
      "execution_count": 42,
      "outputs": []
    },
    {
      "cell_type": "code",
      "source": [
        "df1"
      ],
      "metadata": {
        "id": "aRm9GQ8KJJ5N",
        "colab": {
          "base_uri": "https://localhost:8080/"
        },
        "outputId": "a45fc625-a9e7-43c5-fcd8-32abdcd0a2be"
      },
      "execution_count": 43,
      "outputs": [
        {
          "output_type": "execute_result",
          "data": {
            "text/plain": [
              "0       44387.5\n",
              "1       44387.5\n",
              "2       44387.5\n",
              "3       44850.0\n",
              "4       44250.0\n",
              "         ...   \n",
              "1915    77600.0\n",
              "1916    75200.0\n",
              "1917    73500.0\n",
              "1918    73500.0\n",
              "1919    75400.0\n",
              "Name: Close, Length: 1920, dtype: float64"
            ]
          },
          "metadata": {},
          "execution_count": 43
        }
      ]
    },
    {
      "cell_type": "code",
      "source": [
        "# 3. Scaler data\n",
        "scaler=MinMaxScaler(feature_range=(0,1))\n",
        "df1=scaler.fit_transform(np.array(df1).reshape(-1,1))"
      ],
      "metadata": {
        "id": "RdVpDho2JgL5"
      },
      "execution_count": 44,
      "outputs": []
    },
    {
      "cell_type": "code",
      "source": [
        "# 4. Chia train test\n",
        "train_size = int(0.7 * len(df1))\n",
        "test_size = int(0.3 * len(df1))\n",
        "\n",
        "train_data = df1[:train_size]\n",
        "test_data = df1[train_size:train_size+test_size]"
      ],
      "metadata": {
        "id": "B5JXpenzJoR3"
      },
      "execution_count": 45,
      "outputs": []
    },
    {
      "cell_type": "code",
      "source": [
        "# 5. Hàm Create Dataset\n",
        "import numpy\n",
        "# convert an array of values into a dataset matrix\n",
        "def create_dataset(dataset, time_step=1):\n",
        "\tdataX, dataY = [], []\n",
        "\tfor i in range(len(dataset)-time_step-1):\n",
        "\t\ta = dataset[i:(i+time_step), 0]   ###i=0, X=0,1,2,3-----99   Y=100\n",
        "\t\tdataX.append(a)\n",
        "\t\tdataY.append(dataset[i + time_step, 0])\n",
        "\treturn numpy.array(dataX), numpy.array(dataY)"
      ],
      "metadata": {
        "id": "yJfmuBORLSfC"
      },
      "execution_count": 46,
      "outputs": []
    },
    {
      "cell_type": "code",
      "source": [
        "#6. Reshape into X=t,t+1,t+2..t+99 and Y=t+100\n",
        "\n",
        "time_step = 100\n",
        "X_train, y_train = create_dataset(train_data, time_step)\n",
        "X_test, ytest = create_dataset(test_data, time_step)"
      ],
      "metadata": {
        "id": "e81cKq03LXFB"
      },
      "execution_count": 47,
      "outputs": []
    },
    {
      "cell_type": "code",
      "source": [
        "# 7. Reshape input to be [samples, time steps, features] which is required for LSTM\n",
        "X_train =X_train.reshape(X_train.shape[0],X_train.shape[1] , 1)\n",
        "X_test = X_test.reshape(X_test.shape[0],X_test.shape[1] , 1)"
      ],
      "metadata": {
        "id": "RdBVfku7O2qb"
      },
      "execution_count": 48,
      "outputs": []
    },
    {
      "cell_type": "code",
      "source": [
        "# 8. Define LSTM Model\n",
        "\n",
        "model=Sequential()\n",
        "model.add(LSTM(50,return_sequences=True,input_shape=(100,1)))\n",
        "model.add(LSTM(50,return_sequences=True))\n",
        "model.add(LSTM(50))\n",
        "model.add(Dense(1))\n",
        "model.compile(loss='mean_squared_error',optimizer='adam')"
      ],
      "metadata": {
        "id": "sSfxrE7BO9vX"
      },
      "execution_count": 49,
      "outputs": []
    },
    {
      "cell_type": "code",
      "source": [
        "# 9. Fit mô hình với dữ liệu train\n",
        "model.fit(X_train,y_train, epochs=100,batch_size=64,verbose=1)"
      ],
      "metadata": {
        "colab": {
          "base_uri": "https://localhost:8080/"
        },
        "id": "zgfeujZSPEKr",
        "outputId": "f3735130-ca4d-4385-d014-1c4b98ca95f0"
      },
      "execution_count": 50,
      "outputs": [
        {
          "output_type": "stream",
          "name": "stdout",
          "text": [
            "Epoch 1/100\n",
            "20/20 [==============================] - 10s 166ms/step - loss: 0.0610\n",
            "Epoch 2/100\n",
            "20/20 [==============================] - 3s 166ms/step - loss: 0.0065\n",
            "Epoch 3/100\n",
            "20/20 [==============================] - 4s 197ms/step - loss: 0.0028\n",
            "Epoch 4/100\n",
            "20/20 [==============================] - 4s 219ms/step - loss: 0.0023\n",
            "Epoch 5/100\n",
            "20/20 [==============================] - 3s 169ms/step - loss: 0.0022\n",
            "Epoch 6/100\n",
            "20/20 [==============================] - 3s 165ms/step - loss: 0.0020\n",
            "Epoch 7/100\n",
            "20/20 [==============================] - 4s 224ms/step - loss: 0.0019\n",
            "Epoch 8/100\n",
            "20/20 [==============================] - 4s 182ms/step - loss: 0.0018\n",
            "Epoch 9/100\n",
            "20/20 [==============================] - 3s 165ms/step - loss: 0.0018\n",
            "Epoch 10/100\n",
            "20/20 [==============================] - 3s 166ms/step - loss: 0.0017\n",
            "Epoch 11/100\n",
            "20/20 [==============================] - 5s 251ms/step - loss: 0.0016\n",
            "Epoch 12/100\n",
            "20/20 [==============================] - 3s 167ms/step - loss: 0.0015\n",
            "Epoch 13/100\n",
            "20/20 [==============================] - 3s 168ms/step - loss: 0.0015\n",
            "Epoch 14/100\n",
            "20/20 [==============================] - 3s 175ms/step - loss: 0.0015\n",
            "Epoch 15/100\n",
            "20/20 [==============================] - 5s 235ms/step - loss: 0.0014\n",
            "Epoch 16/100\n",
            "20/20 [==============================] - 3s 167ms/step - loss: 0.0014\n",
            "Epoch 17/100\n",
            "20/20 [==============================] - 3s 166ms/step - loss: 0.0013\n",
            "Epoch 18/100\n",
            "20/20 [==============================] - 4s 202ms/step - loss: 0.0014\n",
            "Epoch 19/100\n",
            "20/20 [==============================] - 4s 211ms/step - loss: 0.0014\n",
            "Epoch 20/100\n",
            "20/20 [==============================] - 4s 178ms/step - loss: 0.0013\n",
            "Epoch 21/100\n",
            "20/20 [==============================] - 4s 175ms/step - loss: 0.0012\n",
            "Epoch 22/100\n",
            "20/20 [==============================] - 5s 257ms/step - loss: 0.0012\n",
            "Epoch 23/100\n",
            "20/20 [==============================] - 3s 167ms/step - loss: 0.0013\n",
            "Epoch 24/100\n",
            "20/20 [==============================] - 3s 165ms/step - loss: 0.0012\n",
            "Epoch 25/100\n",
            "20/20 [==============================] - 3s 170ms/step - loss: 0.0011\n",
            "Epoch 26/100\n",
            "20/20 [==============================] - 5s 243ms/step - loss: 0.0011\n",
            "Epoch 27/100\n",
            "20/20 [==============================] - 3s 166ms/step - loss: 0.0011\n",
            "Epoch 28/100\n",
            "20/20 [==============================] - 3s 169ms/step - loss: 0.0010\n",
            "Epoch 29/100\n",
            "20/20 [==============================] - 4s 200ms/step - loss: 9.9150e-04\n",
            "Epoch 30/100\n",
            "20/20 [==============================] - 4s 209ms/step - loss: 0.0012\n",
            "Epoch 31/100\n",
            "20/20 [==============================] - 3s 168ms/step - loss: 0.0012\n",
            "Epoch 32/100\n",
            "20/20 [==============================] - 3s 168ms/step - loss: 9.5980e-04\n",
            "Epoch 33/100\n",
            "20/20 [==============================] - 5s 235ms/step - loss: 9.2990e-04\n",
            "Epoch 34/100\n",
            "20/20 [==============================] - 4s 180ms/step - loss: 9.7554e-04\n",
            "Epoch 35/100\n",
            "20/20 [==============================] - 3s 166ms/step - loss: 9.4492e-04\n",
            "Epoch 36/100\n",
            "20/20 [==============================] - 3s 169ms/step - loss: 8.6219e-04\n",
            "Epoch 37/100\n",
            "20/20 [==============================] - 5s 250ms/step - loss: 9.6422e-04\n",
            "Epoch 38/100\n",
            "20/20 [==============================] - 3s 166ms/step - loss: 9.1802e-04\n",
            "Epoch 39/100\n",
            "20/20 [==============================] - 3s 167ms/step - loss: 9.1711e-04\n",
            "Epoch 40/100\n",
            "20/20 [==============================] - 4s 182ms/step - loss: 8.2373e-04\n",
            "Epoch 41/100\n",
            "20/20 [==============================] - 5s 227ms/step - loss: 8.1690e-04\n",
            "Epoch 42/100\n",
            "20/20 [==============================] - 3s 165ms/step - loss: 8.4718e-04\n",
            "Epoch 43/100\n",
            "20/20 [==============================] - 3s 173ms/step - loss: 7.8284e-04\n",
            "Epoch 44/100\n",
            "20/20 [==============================] - 4s 223ms/step - loss: 8.7122e-04\n",
            "Epoch 45/100\n",
            "20/20 [==============================] - 4s 194ms/step - loss: 8.6055e-04\n",
            "Epoch 46/100\n",
            "20/20 [==============================] - 3s 166ms/step - loss: 7.9880e-04\n",
            "Epoch 47/100\n",
            "20/20 [==============================] - 3s 167ms/step - loss: 7.4498e-04\n",
            "Epoch 48/100\n",
            "20/20 [==============================] - 5s 243ms/step - loss: 7.4648e-04\n",
            "Epoch 49/100\n",
            "20/20 [==============================] - 3s 164ms/step - loss: 7.3000e-04\n",
            "Epoch 50/100\n",
            "20/20 [==============================] - 3s 166ms/step - loss: 7.9652e-04\n",
            "Epoch 51/100\n",
            "20/20 [==============================] - 3s 164ms/step - loss: 7.4586e-04\n",
            "Epoch 52/100\n",
            "20/20 [==============================] - 5s 249ms/step - loss: 8.0598e-04\n",
            "Epoch 53/100\n",
            "20/20 [==============================] - 3s 167ms/step - loss: 7.1741e-04\n",
            "Epoch 54/100\n",
            "20/20 [==============================] - 3s 166ms/step - loss: 7.6432e-04\n",
            "Epoch 55/100\n",
            "20/20 [==============================] - 4s 190ms/step - loss: 6.7134e-04\n",
            "Epoch 56/100\n",
            "20/20 [==============================] - 4s 219ms/step - loss: 6.4434e-04\n",
            "Epoch 57/100\n",
            "20/20 [==============================] - 3s 166ms/step - loss: 7.5483e-04\n",
            "Epoch 58/100\n",
            "20/20 [==============================] - 3s 165ms/step - loss: 6.2478e-04\n",
            "Epoch 59/100\n",
            "20/20 [==============================] - 4s 219ms/step - loss: 6.5294e-04\n",
            "Epoch 60/100\n",
            "20/20 [==============================] - 4s 199ms/step - loss: 6.3347e-04\n",
            "Epoch 61/100\n",
            "20/20 [==============================] - 3s 168ms/step - loss: 5.9899e-04\n",
            "Epoch 62/100\n",
            "20/20 [==============================] - 3s 165ms/step - loss: 6.3036e-04\n",
            "Epoch 63/100\n",
            "20/20 [==============================] - 5s 244ms/step - loss: 7.0474e-04\n",
            "Epoch 64/100\n",
            "20/20 [==============================] - 3s 168ms/step - loss: 6.6010e-04\n",
            "Epoch 65/100\n",
            "20/20 [==============================] - 3s 168ms/step - loss: 6.1325e-04\n",
            "Epoch 66/100\n",
            "20/20 [==============================] - 3s 166ms/step - loss: 5.9825e-04\n",
            "Epoch 67/100\n",
            "20/20 [==============================] - 5s 250ms/step - loss: 6.1993e-04\n",
            "Epoch 68/100\n",
            "20/20 [==============================] - 3s 169ms/step - loss: 6.4189e-04\n",
            "Epoch 69/100\n",
            "20/20 [==============================] - 3s 168ms/step - loss: 5.8039e-04\n",
            "Epoch 70/100\n",
            "20/20 [==============================] - 4s 193ms/step - loss: 7.0320e-04\n",
            "Epoch 71/100\n",
            "20/20 [==============================] - 4s 219ms/step - loss: 6.4259e-04\n",
            "Epoch 72/100\n",
            "20/20 [==============================] - 3s 167ms/step - loss: 5.8052e-04\n",
            "Epoch 73/100\n",
            "20/20 [==============================] - 3s 167ms/step - loss: 5.8029e-04\n",
            "Epoch 74/100\n",
            "20/20 [==============================] - 4s 226ms/step - loss: 5.8216e-04\n",
            "Epoch 75/100\n",
            "20/20 [==============================] - 4s 191ms/step - loss: 5.9166e-04\n",
            "Epoch 76/100\n",
            "20/20 [==============================] - 3s 166ms/step - loss: 5.9542e-04\n",
            "Epoch 77/100\n",
            "20/20 [==============================] - 3s 166ms/step - loss: 5.6277e-04\n",
            "Epoch 78/100\n",
            "20/20 [==============================] - 5s 248ms/step - loss: 5.6194e-04\n",
            "Epoch 79/100\n",
            "20/20 [==============================] - 3s 168ms/step - loss: 5.3759e-04\n",
            "Epoch 80/100\n",
            "20/20 [==============================] - 3s 168ms/step - loss: 5.2849e-04\n",
            "Epoch 81/100\n",
            "20/20 [==============================] - 4s 180ms/step - loss: 5.3753e-04\n",
            "Epoch 82/100\n",
            "20/20 [==============================] - 5s 235ms/step - loss: 5.5913e-04\n",
            "Epoch 83/100\n",
            "20/20 [==============================] - 3s 168ms/step - loss: 7.7349e-04\n",
            "Epoch 84/100\n",
            "20/20 [==============================] - 3s 167ms/step - loss: 6.6302e-04\n",
            "Epoch 85/100\n",
            "20/20 [==============================] - 4s 206ms/step - loss: 5.4022e-04\n",
            "Epoch 86/100\n",
            "20/20 [==============================] - 4s 209ms/step - loss: 6.2259e-04\n",
            "Epoch 87/100\n",
            "20/20 [==============================] - 3s 167ms/step - loss: 6.8067e-04\n",
            "Epoch 88/100\n",
            "20/20 [==============================] - 3s 166ms/step - loss: 5.2181e-04\n",
            "Epoch 89/100\n",
            "20/20 [==============================] - 5s 238ms/step - loss: 5.3148e-04\n",
            "Epoch 90/100\n",
            "20/20 [==============================] - 4s 173ms/step - loss: 5.0612e-04\n",
            "Epoch 91/100\n",
            "20/20 [==============================] - 3s 172ms/step - loss: 4.9342e-04\n",
            "Epoch 92/100\n",
            "20/20 [==============================] - 3s 170ms/step - loss: 5.0079e-04\n",
            "Epoch 93/100\n",
            "20/20 [==============================] - 5s 249ms/step - loss: 5.5773e-04\n",
            "Epoch 94/100\n",
            "20/20 [==============================] - 3s 169ms/step - loss: 4.7540e-04\n",
            "Epoch 95/100\n",
            "20/20 [==============================] - 3s 168ms/step - loss: 5.0357e-04\n",
            "Epoch 96/100\n",
            "20/20 [==============================] - 4s 196ms/step - loss: 4.7005e-04\n",
            "Epoch 97/100\n",
            "20/20 [==============================] - 4s 220ms/step - loss: 4.9261e-04\n",
            "Epoch 98/100\n",
            "20/20 [==============================] - 3s 169ms/step - loss: 5.6799e-04\n",
            "Epoch 99/100\n",
            "20/20 [==============================] - 3s 168ms/step - loss: 5.9639e-04\n",
            "Epoch 100/100\n",
            "20/20 [==============================] - 5s 238ms/step - loss: 4.6995e-04\n"
          ]
        },
        {
          "output_type": "execute_result",
          "data": {
            "text/plain": [
              "<keras.src.callbacks.History at 0x7a9334abb760>"
            ]
          },
          "metadata": {},
          "execution_count": 50
        }
      ]
    },
    {
      "cell_type": "code",
      "source": [
        "# 10. Dự báo dữ liệu test, val\n",
        "train_predict=model.predict(X_train)\n",
        "y_pred=model.predict(X_test)"
      ],
      "metadata": {
        "colab": {
          "base_uri": "https://localhost:8080/"
        },
        "id": "Rxx_KQSkQpBG",
        "outputId": "f85bd977-b3ba-4105-e82f-0aa73d07d15f"
      },
      "execution_count": 51,
      "outputs": [
        {
          "output_type": "stream",
          "name": "stdout",
          "text": [
            "39/39 [==============================] - 3s 40ms/step\n",
            "15/15 [==============================] - 1s 39ms/step\n"
          ]
        }
      ]
    },
    {
      "cell_type": "code",
      "source": [
        "# 11. Chuẩn hóa dữ liệu y_pred, y_pred_val\n",
        "train_predict=scaler.inverse_transform(train_predict)\n",
        "y_pred=scaler.inverse_transform(y_pred)"
      ],
      "metadata": {
        "id": "5rwTN10LQ7rj"
      },
      "execution_count": 52,
      "outputs": []
    },
    {
      "cell_type": "code",
      "source": [
        "# 12. Đánh giá độ chính xác thuật toán bằng RMSE\n",
        "test_rmse = np.sqrt(np.mean((y_pred - ytest)**2))\n",
        "print('Testing RMSE:', test_rmse)"
      ],
      "metadata": {
        "colab": {
          "base_uri": "https://localhost:8080/"
        },
        "id": "wu_9j94kRonD",
        "outputId": "807ea05f-cd1b-4ce1-cf55-10728a59ba66"
      },
      "execution_count": 53,
      "outputs": [
        {
          "output_type": "stream",
          "name": "stdout",
          "text": [
            "Testing RMSE: 71110.61895847207\n"
          ]
        }
      ]
    },
    {
      "cell_type": "code",
      "source": [
        "# Dự đoán 30 ngày tiếp theo\n",
        "temp_input = test_data[-time_step:].reshape(1, -1).tolist()[0]\n",
        "lst_output_30 = []\n",
        "n_steps = time_step\n",
        "for i in range(30):\n",
        "    if len(temp_input) > n_steps:\n",
        "        x_input = np.array(temp_input[-n_steps:])\n",
        "        x_input = x_input.reshape((1, n_steps, 1))\n",
        "        yhat = model.predict(x_input, verbose=0)\n",
        "        temp_input.extend(yhat[0].tolist())\n",
        "        temp_input = temp_input[1:]\n",
        "        lst_output_30.extend(yhat.tolist())\n",
        "    else:\n",
        "        x_input = np.array(temp_input)\n",
        "        x_input = x_input.reshape((1, len(temp_input), 1))\n",
        "        yhat = model.predict(x_input, verbose=0)\n",
        "        temp_input.extend(yhat[0].tolist())\n",
        "        lst_output_30.extend(yhat.tolist())"
      ],
      "metadata": {
        "id": "wAxe8LXNPhaP"
      },
      "execution_count": 54,
      "outputs": []
    },
    {
      "cell_type": "code",
      "source": [
        "\n",
        "# Chuẩn hóa lại dự đoán 30 ngày\n",
        "lst_output_30 = scaler.inverse_transform(lst_output_30)\n"
      ],
      "metadata": {
        "id": "rtDWm26YPn6t"
      },
      "execution_count": 55,
      "outputs": []
    },
    {
      "cell_type": "code",
      "source": [
        "# Dự đoán 60 ngày tiếp theo\n",
        "temp_input = test_data[-time_step:].reshape(1, -1).tolist()[0]\n",
        "lst_output_60 = []\n",
        "n_steps = time_step\n",
        "for i in range(60):\n",
        "    if len(temp_input) > n_steps:\n",
        "        x_input = np.array(temp_input[-n_steps:])\n",
        "        x_input = x_input.reshape((1, n_steps, 1))\n",
        "        yhat = model.predict(x_input, verbose=0)\n",
        "        temp_input.extend(yhat[0].tolist())\n",
        "        temp_input = temp_input[1:]\n",
        "        lst_output_60.extend(yhat.tolist())\n",
        "    else:\n",
        "        x_input = np.array(temp_input)\n",
        "        x_input = x_input.reshape((1, len(temp_input), 1))\n",
        "        yhat = model.predict(x_input, verbose=0)\n",
        "        temp_input.extend(yhat[0].tolist())\n",
        "        lst_output_60.extend(yhat.tolist())"
      ],
      "metadata": {
        "id": "LqWeUrG2Qdu0"
      },
      "execution_count": 56,
      "outputs": []
    },
    {
      "cell_type": "code",
      "source": [
        "\n",
        "# Chuẩn hóa lại dự đoán 60 ngày\n",
        "lst_output_60 = scaler.inverse_transform(lst_output_60)\n"
      ],
      "metadata": {
        "id": "EJDShcpXQkL_"
      },
      "execution_count": 57,
      "outputs": []
    },
    {
      "cell_type": "code",
      "source": [
        "# Dự đoán 90 ngày tiếp theo\n",
        "temp_input = test_data[-time_step:].reshape(1, -1).tolist()[0]\n",
        "lst_output_90 = []\n",
        "n_steps = time_step\n",
        "for i in range(90):\n",
        "    if len(temp_input) > n_steps:\n",
        "        x_input = np.array(temp_input[-n_steps:])\n",
        "        x_input = x_input.reshape((1, n_steps, 1))\n",
        "        yhat = model.predict(x_input, verbose=0)\n",
        "        temp_input.extend(yhat[0].tolist())\n",
        "        temp_input = temp_input[1:]\n",
        "        lst_output_90.extend(yhat.tolist())\n",
        "    else:\n",
        "        x_input = np.array(temp_input)\n",
        "        x_input = x_input.reshape((1, len(temp_input), 1))\n",
        "        yhat = model.predict(x_input, verbose=0)\n",
        "        temp_input.extend(yhat[0].tolist())\n",
        "        lst_output_90.extend(yhat.tolist())"
      ],
      "metadata": {
        "id": "ivJZ-zk9Q2B3"
      },
      "execution_count": 58,
      "outputs": []
    },
    {
      "cell_type": "code",
      "source": [
        "\n",
        "# Chuẩn hóa lại dự đoán 90 ngày\n",
        "lst_output_90 = scaler.inverse_transform(lst_output_90)\n"
      ],
      "metadata": {
        "id": "BLVSQlWDQ3VW"
      },
      "execution_count": 59,
      "outputs": []
    },
    {
      "cell_type": "code",
      "source": [
        "\n",
        "# Plot the results\n",
        "plt.figure(figsize=(14, 8))\n",
        "\n",
        "# Plot training data\n",
        "train_data_index = pd.RangeIndex(start=0, stop=train_size, step=1)\n",
        "plt.plot(train_data_index, scaler.inverse_transform(train_data))\n",
        "\n",
        "# Plot testing data\n",
        "test_data_index = pd.RangeIndex(start=train_size, stop=train_size + test_size, step=1)\n",
        "plt.plot(test_data_index, scaler.inverse_transform(test_data))\n",
        "\n",
        "# Plot predicted data\n",
        "y_pred_index = pd.RangeIndex(start=train_size + time_step, stop=train_size + time_step + len(y_pred), step=1)\n",
        "plt.plot(y_pred_index, y_pred)\n",
        "\n",
        "# Plot future predictions\n",
        "predict90_days_index = pd.RangeIndex(start=train_size + test_size, stop=train_size + test_size + 90, step=1)\n",
        "plt.plot(predict90_days_index, lst_output_90, color='red')\n",
        "\n",
        "\n",
        "predict60_days_index = pd.RangeIndex(start=train_size + test_size, stop=train_size + test_size + 60, step=1)\n",
        "plt.plot(predict60_days_index, lst_output_60, color='yellow')\n",
        "\n",
        "\n",
        "predict30_days_index = pd.RangeIndex(start=train_size + test_size, stop=train_size + test_size + 30, step=1)\n",
        "plt.plot(predict30_days_index, lst_output_30, color='blue')\n",
        "\n",
        "\n",
        "\n",
        "plt.legend(['Train', 'Test', 'Predict', 'Predict90days' , 'Predict60days', 'Predict30days' ])\n",
        "plt.show()"
      ],
      "metadata": {
        "colab": {
          "base_uri": "https://localhost:8080/",
          "height": 650
        },
        "id": "-ZT9QhRrhx6N",
        "outputId": "5650e552-8969-42a7-f7db-eb1a9e1c942b"
      },
      "execution_count": 60,
      "outputs": [
        {
          "output_type": "display_data",
          "data": {
            "text/plain": [
              "<Figure size 1400x800 with 1 Axes>"
            ],
            "image/png": "[encoded data removed]"
          },
          "metadata": {}
        }
      ]
    },
    {
      "cell_type": "code",
      "source": [
        "from sklearn.metrics import mean_absolute_percentage_error, mean_squared_error, r2_score\n",
        "# Tính toán MAPE và RMSE\n",
        "mape = mean_absolute_percentage_error(ytest, y_pred)\n",
        "rmse = np.sqrt(mean_squared_error(ytest, y_pred))\n",
        "mse = mean_squared_error(ytest, y_pred)\n",
        "\n",
        "print(f'RMSE: {rmse:.4f}')\n",
        "print(f'MSE: {mse:.4f}')\n",
        "print(f'MAPE: {mape:.4f}')\n",
        "\n",
        "# results_VARMA = pd.DataFrame([['VARMA', rmse, mape, mse]],\n",
        "#                columns = ['Model', 'RMSE', 'MSE', 'MAPE'])\n",
        "# results_VARMA"
      ],
      "metadata": {
        "id": "R6wI35rl3qkW",
        "outputId": "754b1ad6-a6ba-484b-f15f-cdd40d474bc4",
        "colab": {
          "base_uri": "https://localhost:8080/"
        }
      },
      "execution_count": 61,
      "outputs": [
        {
          "output_type": "stream",
          "name": "stdout",
          "text": [
            "RMSE: 71110.6106\n",
            "MSE: 5056718944.2334\n",
            "MAPE: 121259.0938\n"
          ]
        }
      ]
    }
  ],
  "metadata": {
    "colab": {
      "provenance": []
    },
    "kernelspec": {
      "display_name": "Python 3",
      "name": "python3"
    },
    "language_info": {
      "name": "python"
    }
  },
  "nbformat": 4,
  "nbformat_minor": 0
}