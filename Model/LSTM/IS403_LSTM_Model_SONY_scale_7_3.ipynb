{
  "cells": [
    {
      "cell_type": "code",
      "source": [
        "\n",
        "import numpy as np\n",
        "import pandas as pd\n",
        "import matplotlib.pyplot as plt\n",
        "from sklearn.preprocessing import MinMaxScaler\n",
        "from keras.models import Sequential\n",
        "from keras.layers import Dense, LSTM"
      ],
      "metadata": {
        "id": "FMDKda-XIUAK"
      },
      "execution_count": 3,
      "outputs": []
    },
    {
      "cell_type": "code",
      "source": [
        "df = pd.read_csv('/content/SONY.csv')\n",
        "df1=df.reset_index()['Close']"
      ],
      "metadata": {
        "id": "Qks3MuwbWZ_W"
      },
      "execution_count": 4,
      "outputs": []
    },
    {
      "cell_type": "code",
      "source": [
        "df1"
      ],
      "metadata": {
        "id": "aRm9GQ8KJJ5N",
        "colab": {
          "base_uri": "https://localhost:8080/"
        },
        "outputId": "269c8f90-3506-4399-94f5-2a60cb0a00cd"
      },
      "execution_count": 5,
      "outputs": [
        {
          "output_type": "execute_result",
          "data": {
            "text/plain": [
              "0       47.89\n",
              "1       47.89\n",
              "2       47.89\n",
              "3       47.62\n",
              "4       47.66\n",
              "        ...  \n",
              "1915    79.86\n",
              "1916    78.45\n",
              "1917    80.79\n",
              "1918    82.34\n",
              "1919    80.36\n",
              "Name: Close, Length: 1920, dtype: float64"
            ]
          },
          "metadata": {},
          "execution_count": 5
        }
      ]
    },
    {
      "cell_type": "code",
      "source": [
        "# 3. Scaler data\n",
        "scaler=MinMaxScaler(feature_range=(0,1))\n",
        "df1=scaler.fit_transform(np.array(df1).reshape(-1,1))"
      ],
      "metadata": {
        "id": "RdVpDho2JgL5"
      },
      "execution_count": 6,
      "outputs": []
    },
    {
      "cell_type": "code",
      "source": [
        "# 4. Chia train test\n",
        "train_size = int(0.7 * len(df1))\n",
        "test_size = int(0.3 * len(df1))\n",
        "\n",
        "train_data = df1[:train_size]\n",
        "test_data = df1[train_size:train_size+test_size]"
      ],
      "metadata": {
        "id": "B5JXpenzJoR3"
      },
      "execution_count": 7,
      "outputs": []
    },
    {
      "cell_type": "code",
      "source": [
        "# 5. Hàm Create Dataset\n",
        "import numpy\n",
        "# convert an array of values into a dataset matrix\n",
        "def create_dataset(dataset, time_step=1):\n",
        "\tdataX, dataY = [], []\n",
        "\tfor i in range(len(dataset)-time_step-1):\n",
        "\t\ta = dataset[i:(i+time_step), 0]   ###i=0, X=0,1,2,3-----99   Y=100\n",
        "\t\tdataX.append(a)\n",
        "\t\tdataY.append(dataset[i + time_step, 0])\n",
        "\treturn numpy.array(dataX), numpy.array(dataY)"
      ],
      "metadata": {
        "id": "yJfmuBORLSfC"
      },
      "execution_count": 8,
      "outputs": []
    },
    {
      "cell_type": "code",
      "source": [
        "#6. Reshape into X=t,t+1,t+2..t+99 and Y=t+100\n",
        "\n",
        "time_step = 100\n",
        "X_train, y_train = create_dataset(train_data, time_step)\n",
        "X_test, ytest = create_dataset(test_data, time_step)"
      ],
      "metadata": {
        "id": "e81cKq03LXFB"
      },
      "execution_count": 9,
      "outputs": []
    },
    {
      "cell_type": "code",
      "source": [
        "# 7. Reshape input to be [samples, time steps, features] which is required for LSTM\n",
        "X_train =X_train.reshape(X_train.shape[0],X_train.shape[1] , 1)\n",
        "X_test = X_test.reshape(X_test.shape[0],X_test.shape[1] , 1)"
      ],
      "metadata": {
        "id": "RdBVfku7O2qb"
      },
      "execution_count": 10,
      "outputs": []
    },
    {
      "cell_type": "code",
      "source": [
        "# 8. Define LSTM Model\n",
        "\n",
        "model=Sequential()\n",
        "model.add(LSTM(50,return_sequences=True,input_shape=(100,1)))\n",
        "model.add(LSTM(50,return_sequences=True))\n",
        "model.add(LSTM(50))\n",
        "model.add(Dense(1))\n",
        "model.compile(loss='mean_squared_error',optimizer='adam')"
      ],
      "metadata": {
        "id": "sSfxrE7BO9vX"
      },
      "execution_count": 11,
      "outputs": []
    },
    {
      "cell_type": "code",
      "source": [
        "# 9. Fit mô hình với dữ liệu train\n",
        "model.fit(X_train,y_train, epochs=100,batch_size=64,verbose=1)"
      ],
      "metadata": {
        "colab": {
          "base_uri": "https://localhost:8080/"
        },
        "id": "zgfeujZSPEKr",
        "outputId": "e63762af-95d9-4ccd-fe36-982401d2252d"
      },
      "execution_count": 12,
      "outputs": [
        {
          "output_type": "stream",
          "name": "stdout",
          "text": [
            "Epoch 1/100\n",
            "20/20 [==============================] - 10s 162ms/step - loss: 0.0537\n",
            "Epoch 2/100\n",
            "20/20 [==============================] - 3s 159ms/step - loss: 0.0053\n",
            "Epoch 3/100\n",
            "20/20 [==============================] - 5s 244ms/step - loss: 0.0024\n",
            "Epoch 4/100\n",
            "20/20 [==============================] - 3s 161ms/step - loss: 0.0020\n",
            "Epoch 5/100\n",
            "20/20 [==============================] - 3s 163ms/step - loss: 0.0020\n",
            "Epoch 6/100\n",
            "20/20 [==============================] - 3s 165ms/step - loss: 0.0019\n",
            "Epoch 7/100\n",
            "20/20 [==============================] - 5s 236ms/step - loss: 0.0020\n",
            "Epoch 8/100\n",
            "20/20 [==============================] - 3s 160ms/step - loss: 0.0018\n",
            "Epoch 9/100\n",
            "20/20 [==============================] - 3s 159ms/step - loss: 0.0017\n",
            "Epoch 10/100\n",
            "20/20 [==============================] - 4s 178ms/step - loss: 0.0017\n",
            "Epoch 11/100\n",
            "20/20 [==============================] - 5s 226ms/step - loss: 0.0015\n",
            "Epoch 12/100\n",
            "20/20 [==============================] - 3s 161ms/step - loss: 0.0015\n",
            "Epoch 13/100\n",
            "20/20 [==============================] - 3s 164ms/step - loss: 0.0014\n",
            "Epoch 14/100\n",
            "20/20 [==============================] - 6s 316ms/step - loss: 0.0013\n",
            "Epoch 15/100\n",
            "20/20 [==============================] - 7s 330ms/step - loss: 0.0012\n",
            "Epoch 16/100\n",
            "20/20 [==============================] - 8s 380ms/step - loss: 0.0012\n",
            "Epoch 17/100\n",
            "20/20 [==============================] - 4s 200ms/step - loss: 0.0012\n",
            "Epoch 18/100\n",
            "20/20 [==============================] - 3s 160ms/step - loss: 0.0012\n",
            "Epoch 19/100\n",
            "20/20 [==============================] - 5s 275ms/step - loss: 0.0010\n",
            "Epoch 20/100\n",
            "20/20 [==============================] - 4s 212ms/step - loss: 9.7944e-04\n",
            "Epoch 21/100\n",
            "20/20 [==============================] - 3s 160ms/step - loss: 9.1693e-04\n",
            "Epoch 22/100\n",
            "20/20 [==============================] - 3s 159ms/step - loss: 9.1923e-04\n",
            "Epoch 23/100\n",
            "20/20 [==============================] - 4s 204ms/step - loss: 0.0010\n",
            "Epoch 24/100\n",
            "20/20 [==============================] - 4s 199ms/step - loss: 8.5481e-04\n",
            "Epoch 25/100\n",
            "20/20 [==============================] - 3s 162ms/step - loss: 8.9557e-04\n",
            "Epoch 26/100\n",
            "20/20 [==============================] - 3s 164ms/step - loss: 8.9663e-04\n",
            "Epoch 27/100\n",
            "20/20 [==============================] - 4s 222ms/step - loss: 8.4501e-04\n",
            "Epoch 28/100\n",
            "20/20 [==============================] - 4s 190ms/step - loss: 8.0204e-04\n",
            "Epoch 29/100\n",
            "20/20 [==============================] - 3s 162ms/step - loss: 7.9537e-04\n",
            "Epoch 30/100\n",
            "20/20 [==============================] - 3s 163ms/step - loss: 8.3997e-04\n",
            "Epoch 31/100\n",
            "20/20 [==============================] - 5s 241ms/step - loss: 8.4283e-04\n",
            "Epoch 32/100\n",
            "20/20 [==============================] - 3s 164ms/step - loss: 7.9696e-04\n",
            "Epoch 33/100\n",
            "20/20 [==============================] - 3s 163ms/step - loss: 7.4905e-04\n",
            "Epoch 34/100\n",
            "20/20 [==============================] - 3s 166ms/step - loss: 7.7169e-04\n",
            "Epoch 35/100\n",
            "20/20 [==============================] - 5s 244ms/step - loss: 8.1244e-04\n",
            "Epoch 36/100\n",
            "20/20 [==============================] - 3s 162ms/step - loss: 8.4629e-04\n",
            "Epoch 37/100\n",
            "20/20 [==============================] - 3s 160ms/step - loss: 9.1036e-04\n",
            "Epoch 38/100\n",
            "20/20 [==============================] - 3s 166ms/step - loss: 7.8052e-04\n",
            "Epoch 39/100\n",
            "20/20 [==============================] - 4s 223ms/step - loss: 7.1792e-04\n",
            "Epoch 40/100\n",
            "20/20 [==============================] - 3s 162ms/step - loss: 7.1644e-04\n",
            "Epoch 41/100\n",
            "20/20 [==============================] - 3s 163ms/step - loss: 7.8608e-04\n",
            "Epoch 42/100\n",
            "20/20 [==============================] - 4s 193ms/step - loss: 6.8476e-04\n",
            "Epoch 43/100\n",
            "20/20 [==============================] - 5s 234ms/step - loss: 7.0387e-04\n",
            "Epoch 44/100\n",
            "20/20 [==============================] - 3s 162ms/step - loss: 7.1437e-04\n",
            "Epoch 45/100\n",
            "20/20 [==============================] - 3s 164ms/step - loss: 6.4657e-04\n",
            "Epoch 46/100\n",
            "20/20 [==============================] - 6s 266ms/step - loss: 7.5388e-04\n",
            "Epoch 47/100\n",
            "20/20 [==============================] - 3s 162ms/step - loss: 6.8998e-04\n",
            "Epoch 48/100\n",
            "20/20 [==============================] - 3s 163ms/step - loss: 7.1871e-04\n",
            "Epoch 49/100\n",
            "20/20 [==============================] - 3s 162ms/step - loss: 6.3736e-04\n",
            "Epoch 50/100\n",
            "20/20 [==============================] - 5s 252ms/step - loss: 7.3092e-04\n",
            "Epoch 51/100\n",
            "20/20 [==============================] - 3s 165ms/step - loss: 7.1728e-04\n",
            "Epoch 52/100\n",
            "20/20 [==============================] - 3s 163ms/step - loss: 6.5078e-04\n",
            "Epoch 53/100\n",
            "20/20 [==============================] - 3s 163ms/step - loss: 6.2119e-04\n",
            "Epoch 54/100\n",
            "20/20 [==============================] - 5s 225ms/step - loss: 6.1898e-04\n",
            "Epoch 55/100\n",
            "20/20 [==============================] - 3s 161ms/step - loss: 6.2303e-04\n",
            "Epoch 56/100\n",
            "20/20 [==============================] - 3s 160ms/step - loss: 6.3554e-04\n",
            "Epoch 57/100\n",
            "20/20 [==============================] - 4s 184ms/step - loss: 6.7976e-04\n",
            "Epoch 58/100\n",
            "20/20 [==============================] - 4s 221ms/step - loss: 6.1072e-04\n",
            "Epoch 59/100\n",
            "20/20 [==============================] - 3s 162ms/step - loss: 6.2872e-04\n",
            "Epoch 60/100\n",
            "20/20 [==============================] - 3s 161ms/step - loss: 5.7355e-04\n",
            "Epoch 61/100\n",
            "20/20 [==============================] - 4s 195ms/step - loss: 5.9314e-04\n",
            "Epoch 62/100\n",
            "20/20 [==============================] - 4s 197ms/step - loss: 6.1410e-04\n",
            "Epoch 63/100\n",
            "20/20 [==============================] - 3s 161ms/step - loss: 5.8235e-04\n",
            "Epoch 64/100\n",
            "20/20 [==============================] - 3s 161ms/step - loss: 6.0687e-04\n",
            "Epoch 65/100\n",
            "20/20 [==============================] - 4s 218ms/step - loss: 5.7308e-04\n",
            "Epoch 66/100\n",
            "20/20 [==============================] - 4s 185ms/step - loss: 7.3551e-04\n",
            "Epoch 67/100\n",
            "20/20 [==============================] - 3s 163ms/step - loss: 6.1457e-04\n",
            "Epoch 68/100\n",
            "20/20 [==============================] - 3s 165ms/step - loss: 5.8587e-04\n",
            "Epoch 69/100\n",
            "20/20 [==============================] - 5s 233ms/step - loss: 5.6132e-04\n",
            "Epoch 70/100\n",
            "20/20 [==============================] - 3s 163ms/step - loss: 5.4868e-04\n",
            "Epoch 71/100\n",
            "20/20 [==============================] - 3s 164ms/step - loss: 5.7352e-04\n",
            "Epoch 72/100\n",
            "20/20 [==============================] - 3s 163ms/step - loss: 6.0123e-04\n",
            "Epoch 73/100\n",
            "20/20 [==============================] - 5s 249ms/step - loss: 5.4833e-04\n",
            "Epoch 74/100\n",
            "20/20 [==============================] - 3s 167ms/step - loss: 5.6557e-04\n",
            "Epoch 75/100\n",
            "20/20 [==============================] - 3s 165ms/step - loss: 5.9830e-04\n",
            "Epoch 76/100\n",
            "20/20 [==============================] - 3s 166ms/step - loss: 5.7090e-04\n",
            "Epoch 77/100\n",
            "20/20 [==============================] - 5s 245ms/step - loss: 5.5931e-04\n",
            "Epoch 78/100\n",
            "20/20 [==============================] - 3s 163ms/step - loss: 5.8092e-04\n",
            "Epoch 79/100\n",
            "20/20 [==============================] - 3s 164ms/step - loss: 5.2775e-04\n",
            "Epoch 80/100\n",
            "20/20 [==============================] - 4s 183ms/step - loss: 5.4332e-04\n",
            "Epoch 81/100\n",
            "20/20 [==============================] - 4s 223ms/step - loss: 6.7277e-04\n",
            "Epoch 82/100\n",
            "20/20 [==============================] - 3s 160ms/step - loss: 4.9950e-04\n",
            "Epoch 83/100\n",
            "20/20 [==============================] - 3s 161ms/step - loss: 5.0136e-04\n",
            "Epoch 84/100\n",
            "20/20 [==============================] - 4s 196ms/step - loss: 5.3602e-04\n",
            "Epoch 85/100\n",
            "20/20 [==============================] - 4s 205ms/step - loss: 7.2727e-04\n",
            "Epoch 86/100\n",
            "20/20 [==============================] - 3s 158ms/step - loss: 5.5189e-04\n",
            "Epoch 87/100\n",
            "20/20 [==============================] - 3s 159ms/step - loss: 4.9972e-04\n",
            "Epoch 88/100\n",
            "20/20 [==============================] - 4s 204ms/step - loss: 4.9850e-04\n",
            "Epoch 89/100\n",
            "20/20 [==============================] - 4s 192ms/step - loss: 5.1080e-04\n",
            "Epoch 90/100\n",
            "20/20 [==============================] - 3s 160ms/step - loss: 4.8944e-04\n",
            "Epoch 91/100\n",
            "20/20 [==============================] - 3s 161ms/step - loss: 4.9202e-04\n",
            "Epoch 92/100\n",
            "20/20 [==============================] - 4s 217ms/step - loss: 4.7166e-04\n",
            "Epoch 93/100\n",
            "20/20 [==============================] - 4s 183ms/step - loss: 5.2318e-04\n",
            "Epoch 94/100\n",
            "20/20 [==============================] - 3s 160ms/step - loss: 5.6844e-04\n",
            "Epoch 95/100\n",
            "20/20 [==============================] - 3s 159ms/step - loss: 5.2164e-04\n",
            "Epoch 96/100\n",
            "20/20 [==============================] - 5s 231ms/step - loss: 5.0111e-04\n",
            "Epoch 97/100\n",
            "20/20 [==============================] - 4s 171ms/step - loss: 5.3532e-04\n",
            "Epoch 98/100\n",
            "20/20 [==============================] - 3s 161ms/step - loss: 5.1862e-04\n",
            "Epoch 99/100\n",
            "20/20 [==============================] - 3s 159ms/step - loss: 6.5197e-04\n",
            "Epoch 100/100\n",
            "20/20 [==============================] - 5s 240ms/step - loss: 5.3521e-04\n"
          ]
        },
        {
          "output_type": "execute_result",
          "data": {
            "text/plain": [
              "<keras.src.callbacks.History at 0x7c433c3b38b0>"
            ]
          },
          "metadata": {},
          "execution_count": 12
        }
      ]
    },
    {
      "cell_type": "code",
      "source": [
        "# 10. Dự báo dữ liệu test, val\n",
        "train_predict=model.predict(X_train)\n",
        "y_pred=model.predict(X_test)"
      ],
      "metadata": {
        "colab": {
          "base_uri": "https://localhost:8080/"
        },
        "id": "Rxx_KQSkQpBG",
        "outputId": "46b020de-0b47-45e4-affe-8aa0121a4dfe"
      },
      "execution_count": 13,
      "outputs": [
        {
          "output_type": "stream",
          "name": "stdout",
          "text": [
            "39/39 [==============================] - 3s 37ms/step\n",
            "15/15 [==============================] - 1s 36ms/step\n"
          ]
        }
      ]
    },
    {
      "cell_type": "code",
      "source": [
        "# 11. Chuẩn hóa dữ liệu y_pred, y_pred_val\n",
        "train_predict=scaler.inverse_transform(train_predict)\n",
        "y_pred=scaler.inverse_transform(y_pred)"
      ],
      "metadata": {
        "id": "5rwTN10LQ7rj"
      },
      "execution_count": 14,
      "outputs": []
    },
    {
      "cell_type": "code",
      "source": [
        "# 12. Đánh giá độ chính xác thuật toán bằng RMSE\n",
        "test_rmse = np.sqrt(np.mean((y_pred - ytest)**2))\n",
        "print('Testing RMSE:', test_rmse)"
      ],
      "metadata": {
        "colab": {
          "base_uri": "https://localhost:8080/"
        },
        "id": "wu_9j94kRonD",
        "outputId": "1ca28625-2a1b-498f-ad1f-f8a98c4f7f08"
      },
      "execution_count": 15,
      "outputs": [
        {
          "output_type": "stream",
          "name": "stdout",
          "text": [
            "Testing RMSE: 87.60525065463189\n"
          ]
        }
      ]
    },
    {
      "cell_type": "code",
      "source": [
        "# Dự đoán 30 ngày tiếp theo\n",
        "temp_input = test_data[-time_step:].reshape(1, -1).tolist()[0]\n",
        "lst_output_30 = []\n",
        "n_steps = time_step\n",
        "for i in range(30):\n",
        "    if len(temp_input) > n_steps:\n",
        "        x_input = np.array(temp_input[-n_steps:])\n",
        "        x_input = x_input.reshape((1, n_steps, 1))\n",
        "        yhat = model.predict(x_input, verbose=0)\n",
        "        temp_input.extend(yhat[0].tolist())\n",
        "        temp_input = temp_input[1:]\n",
        "        lst_output_30.extend(yhat.tolist())\n",
        "    else:\n",
        "        x_input = np.array(temp_input)\n",
        "        x_input = x_input.reshape((1, len(temp_input), 1))\n",
        "        yhat = model.predict(x_input, verbose=0)\n",
        "        temp_input.extend(yhat[0].tolist())\n",
        "        lst_output_30.extend(yhat.tolist())"
      ],
      "metadata": {
        "id": "wAxe8LXNPhaP"
      },
      "execution_count": 16,
      "outputs": []
    },
    {
      "cell_type": "code",
      "source": [
        "\n",
        "# Chuẩn hóa lại dự đoán 30 ngày\n",
        "lst_output_30 = scaler.inverse_transform(lst_output_30)\n"
      ],
      "metadata": {
        "id": "rtDWm26YPn6t"
      },
      "execution_count": 17,
      "outputs": []
    },
    {
      "cell_type": "code",
      "source": [
        "# Dự đoán 60 ngày tiếp theo\n",
        "temp_input = test_data[-time_step:].reshape(1, -1).tolist()[0]\n",
        "lst_output_60 = []\n",
        "n_steps = time_step\n",
        "for i in range(60):\n",
        "    if len(temp_input) > n_steps:\n",
        "        x_input = np.array(temp_input[-n_steps:])\n",
        "        x_input = x_input.reshape((1, n_steps, 1))\n",
        "        yhat = model.predict(x_input, verbose=0)\n",
        "        temp_input.extend(yhat[0].tolist())\n",
        "        temp_input = temp_input[1:]\n",
        "        lst_output_60.extend(yhat.tolist())\n",
        "    else:\n",
        "        x_input = np.array(temp_input)\n",
        "        x_input = x_input.reshape((1, len(temp_input), 1))\n",
        "        yhat = model.predict(x_input, verbose=0)\n",
        "        temp_input.extend(yhat[0].tolist())\n",
        "        lst_output_60.extend(yhat.tolist())"
      ],
      "metadata": {
        "id": "LqWeUrG2Qdu0"
      },
      "execution_count": 18,
      "outputs": []
    },
    {
      "cell_type": "code",
      "source": [
        "\n",
        "# Chuẩn hóa lại dự đoán 60 ngày\n",
        "lst_output_60 = scaler.inverse_transform(lst_output_60)\n"
      ],
      "metadata": {
        "id": "EJDShcpXQkL_"
      },
      "execution_count": 19,
      "outputs": []
    },
    {
      "cell_type": "code",
      "source": [
        "# Dự đoán 90 ngày tiếp theo\n",
        "temp_input = test_data[-time_step:].reshape(1, -1).tolist()[0]\n",
        "lst_output_90 = []\n",
        "n_steps = time_step\n",
        "for i in range(90):\n",
        "    if len(temp_input) > n_steps:\n",
        "        x_input = np.array(temp_input[-n_steps:])\n",
        "        x_input = x_input.reshape((1, n_steps, 1))\n",
        "        yhat = model.predict(x_input, verbose=0)\n",
        "        temp_input.extend(yhat[0].tolist())\n",
        "        temp_input = temp_input[1:]\n",
        "        lst_output_90.extend(yhat.tolist())\n",
        "    else:\n",
        "        x_input = np.array(temp_input)\n",
        "        x_input = x_input.reshape((1, len(temp_input), 1))\n",
        "        yhat = model.predict(x_input, verbose=0)\n",
        "        temp_input.extend(yhat[0].tolist())\n",
        "        lst_output_90.extend(yhat.tolist())"
      ],
      "metadata": {
        "id": "ivJZ-zk9Q2B3"
      },
      "execution_count": 20,
      "outputs": []
    },
    {
      "cell_type": "code",
      "source": [
        "\n",
        "# Chuẩn hóa lại dự đoán 90 ngày\n",
        "lst_output_90 = scaler.inverse_transform(lst_output_90)\n"
      ],
      "metadata": {
        "id": "BLVSQlWDQ3VW"
      },
      "execution_count": 21,
      "outputs": []
    },
    {
      "cell_type": "code",
      "source": [
        "\n",
        "# Plot the results\n",
        "plt.figure(figsize=(14, 8))\n",
        "\n",
        "# Plot training data\n",
        "train_data_index = pd.RangeIndex(start=0, stop=train_size, step=1)\n",
        "plt.plot(train_data_index, scaler.inverse_transform(train_data))\n",
        "\n",
        "# Plot testing data\n",
        "test_data_index = pd.RangeIndex(start=train_size, stop=train_size + test_size, step=1)\n",
        "plt.plot(test_data_index, scaler.inverse_transform(test_data))\n",
        "\n",
        "# Plot predicted data\n",
        "y_pred_index = pd.RangeIndex(start=train_size + time_step, stop=train_size + time_step + len(y_pred), step=1)\n",
        "plt.plot(y_pred_index, y_pred)\n",
        "\n",
        "# Plot future predictions\n",
        "predict90_days_index = pd.RangeIndex(start=train_size + test_size, stop=train_size + test_size + 90, step=1)\n",
        "plt.plot(predict90_days_index, lst_output_90, color='red')\n",
        "\n",
        "\n",
        "predict60_days_index = pd.RangeIndex(start=train_size + test_size, stop=train_size + test_size + 60, step=1)\n",
        "plt.plot(predict60_days_index, lst_output_60, color='yellow')\n",
        "\n",
        "\n",
        "predict30_days_index = pd.RangeIndex(start=train_size + test_size, stop=train_size + test_size + 30, step=1)\n",
        "plt.plot(predict30_days_index, lst_output_30, color='blue')\n",
        "\n",
        "\n",
        "\n",
        "plt.legend(['Train', 'Test', 'Predict', 'Predict90days' , 'Predict60days', 'Predict30days' ])\n",
        "plt.show()"
      ],
      "metadata": {
        "colab": {
          "base_uri": "https://localhost:8080/",
          "height": 660
        },
        "id": "-ZT9QhRrhx6N",
        "outputId": "c9a5d9e0-5566-4b1e-f2e9-2e78b89f74d5"
      },
      "execution_count": 22,
      "outputs": [
        {
          "output_type": "display_data",
          "data": {
            "text/plain": [
              "<Figure size 1400x800 with 1 Axes>"
            ],
            "image/png": "[encoded data removed]"
          },
          "metadata": {}
        }
      ]
    },
    {
      "cell_type": "code",
      "source": [
        "from sklearn.metrics import mean_absolute_percentage_error, mean_squared_error, r2_score\n",
        "# Tính toán MAPE và RMSE\n",
        "mape = mean_absolute_percentage_error(ytest, y_pred)\n",
        "rmse = np.sqrt(mean_squared_error(ytest, y_pred))\n",
        "mse = mean_squared_error(ytest, y_pred)\n",
        "\n",
        "print(f'RMSE: {rmse:.4f}')\n",
        "print(f'MSE: {mse:.4f}')\n",
        "print(f'MAPE: {mape:.4f}')\n",
        "\n",
        "# results_VARMA = pd.DataFrame([['VARMA', rmse, mape, mse]],\n",
        "#                columns = ['Model', 'RMSE', 'MSE', 'MAPE'])\n",
        "# results_VARMA"
      ],
      "metadata": {
        "colab": {
          "base_uri": "https://localhost:8080/"
        },
        "id": "4CCLwtr144lV",
        "outputId": "b8d2f503-5435-4824-f9de-17fa7d140f51"
      },
      "execution_count": 23,
      "outputs": [
        {
          "output_type": "stream",
          "name": "stdout",
          "text": [
            "RMSE: 87.6018\n",
            "MSE: 7674.0832\n",
            "MAPE: 163.7067\n"
          ]
        }
      ]
    },
    {
      "cell_type": "code",
      "source": [
        "from sklearn.metrics import mean_absolute_percentage_error, mean_squared_error, r2_score\n",
        "# Tính toán MAPE và RMSE\n",
        "mape = mean_absolute_percentage_error(ytest, y_pred)\n",
        "rmse = np.sqrt(mean_squared_error(ytest, y_pred))\n",
        "mse = mean_squared_error(ytest, y_pred)\n",
        "\n",
        "print(f'RMSE: {rmse:.4f}')\n",
        "print(f'MSE: {mse:.4f}')\n",
        "print(f'MAPE: {mape:.4f}')\n",
        "\n",
        "# results_VARMA = pd.DataFrame([['VARMA', rmse, mape, mse]],\n",
        "#                columns = ['Model', 'RMSE', 'MSE', 'MAPE'])\n",
        "# results_VARMA"
      ],
      "metadata": {
        "colab": {
          "base_uri": "https://localhost:8080/"
        },
        "id": "_jbd1PUY7n_s",
        "outputId": "f661fede-d53f-4f65-e017-af7ba5138e55"
      },
      "execution_count": 24,
      "outputs": [
        {
          "output_type": "stream",
          "name": "stdout",
          "text": [
            "RMSE: 87.6018\n",
            "MSE: 7674.0832\n",
            "MAPE: 163.7067\n"
          ]
        }
      ]
    }
  ],
  "metadata": {
    "colab": {
      "provenance": []
    },
    "kernelspec": {
      "display_name": "Python 3",
      "name": "python3"
    },
    "language_info": {
      "name": "python"
    }
  },
  "nbformat": 4,
  "nbformat_minor": 0
}