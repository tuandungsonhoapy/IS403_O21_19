{
  "cells": [
    {
      "cell_type": "code",
      "source": [
        "\n",
        "import numpy as np\n",
        "import pandas as pd\n",
        "import matplotlib.pyplot as plt\n",
        "from sklearn.preprocessing import MinMaxScaler\n",
        "from keras.models import Sequential\n",
        "from keras.layers import Dense, LSTM"
      ],
      "metadata": {
        "id": "FMDKda-XIUAK"
      },
      "execution_count": 1,
      "outputs": []
    },
    {
      "cell_type": "code",
      "source": [
        "df = pd.read_csv('/content/LG.csv')\n",
        "df1=df.reset_index()['Close']"
      ],
      "metadata": {
        "id": "Qks3MuwbWZ_W"
      },
      "execution_count": 2,
      "outputs": []
    },
    {
      "cell_type": "code",
      "source": [
        "df1"
      ],
      "metadata": {
        "id": "aRm9GQ8KJJ5N",
        "colab": {
          "base_uri": "https://localhost:8080/"
        },
        "outputId": "5ed10c4f-2d76-4d5c-9133-c3b473badc28"
      },
      "execution_count": 3,
      "outputs": [
        {
          "output_type": "execute_result",
          "data": {
            "text/plain": [
              "0        73000.0\n",
              "1        73000.0\n",
              "2        73000.0\n",
              "3        71200.0\n",
              "4        71300.0\n",
              "          ...   \n",
              "1915    109300.0\n",
              "1916    110500.0\n",
              "1917    106300.0\n",
              "1918    104800.0\n",
              "1919    105460.0\n",
              "Name: Close, Length: 1920, dtype: float64"
            ]
          },
          "metadata": {},
          "execution_count": 3
        }
      ]
    },
    {
      "cell_type": "code",
      "source": [
        "# 3. Scaler data\n",
        "scaler=MinMaxScaler(feature_range=(0,1))\n",
        "df1=scaler.fit_transform(np.array(df1).reshape(-1,1))"
      ],
      "metadata": {
        "id": "RdVpDho2JgL5"
      },
      "execution_count": 4,
      "outputs": []
    },
    {
      "cell_type": "code",
      "source": [
        "# 4. Chia train test\n",
        "train_size = int(0.7 * len(df1))\n",
        "test_size = int(0.3 * len(df1))\n",
        "\n",
        "train_data = df1[:train_size]\n",
        "test_data = df1[train_size:train_size+test_size]"
      ],
      "metadata": {
        "id": "B5JXpenzJoR3"
      },
      "execution_count": 5,
      "outputs": []
    },
    {
      "cell_type": "code",
      "source": [
        "# 5. Hàm Create Dataset\n",
        "import numpy\n",
        "# convert an array of values into a dataset matrix\n",
        "def create_dataset(dataset, time_step=1):\n",
        "\tdataX, dataY = [], []\n",
        "\tfor i in range(len(dataset)-time_step-1):\n",
        "\t\ta = dataset[i:(i+time_step), 0]   ###i=0, X=0,1,2,3-----99   Y=100\n",
        "\t\tdataX.append(a)\n",
        "\t\tdataY.append(dataset[i + time_step, 0])\n",
        "\treturn numpy.array(dataX), numpy.array(dataY)"
      ],
      "metadata": {
        "id": "yJfmuBORLSfC"
      },
      "execution_count": 6,
      "outputs": []
    },
    {
      "cell_type": "code",
      "source": [
        "#6. Reshape into X=t,t+1,t+2..t+99 and Y=t+100\n",
        "\n",
        "time_step = 100\n",
        "X_train, y_train = create_dataset(train_data, time_step)\n",
        "X_test, ytest = create_dataset(test_data, time_step)"
      ],
      "metadata": {
        "id": "e81cKq03LXFB"
      },
      "execution_count": 7,
      "outputs": []
    },
    {
      "cell_type": "code",
      "source": [
        "# 7. Reshape input to be [samples, time steps, features] which is required for LSTM\n",
        "X_train =X_train.reshape(X_train.shape[0],X_train.shape[1] , 1)\n",
        "X_test = X_test.reshape(X_test.shape[0],X_test.shape[1] , 1)"
      ],
      "metadata": {
        "id": "RdBVfku7O2qb"
      },
      "execution_count": 8,
      "outputs": []
    },
    {
      "cell_type": "code",
      "source": [
        "# 8. Define LSTM Model\n",
        "\n",
        "model=Sequential()\n",
        "model.add(LSTM(50,return_sequences=True,input_shape=(100,1)))\n",
        "model.add(LSTM(50,return_sequences=True))\n",
        "model.add(LSTM(50))\n",
        "model.add(Dense(1))\n",
        "model.compile(loss='mean_squared_error',optimizer='adam')"
      ],
      "metadata": {
        "id": "sSfxrE7BO9vX"
      },
      "execution_count": 9,
      "outputs": []
    },
    {
      "cell_type": "code",
      "source": [
        "# 9. Fit mô hình với dữ liệu train\n",
        "model.fit(X_train,y_train, epochs=100,batch_size=64,verbose=1)"
      ],
      "metadata": {
        "colab": {
          "base_uri": "https://localhost:8080/"
        },
        "id": "zgfeujZSPEKr",
        "outputId": "c6d5b17c-64d8-4b9d-e715-2ad07d5227ff"
      },
      "execution_count": 10,
      "outputs": [
        {
          "output_type": "stream",
          "name": "stdout",
          "text": [
            "Epoch 1/100\n",
            "20/20 [==============================] - 12s 190ms/step - loss: 0.0402\n",
            "Epoch 2/100\n",
            "20/20 [==============================] - 3s 161ms/step - loss: 0.0046\n",
            "Epoch 3/100\n",
            "20/20 [==============================] - 4s 217ms/step - loss: 0.0024\n",
            "Epoch 4/100\n",
            "20/20 [==============================] - 4s 176ms/step - loss: 0.0022\n",
            "Epoch 5/100\n",
            "20/20 [==============================] - 3s 162ms/step - loss: 0.0021\n",
            "Epoch 6/100\n",
            "20/20 [==============================] - 3s 159ms/step - loss: 0.0020\n",
            "Epoch 7/100\n",
            "20/20 [==============================] - 5s 232ms/step - loss: 0.0019\n",
            "Epoch 8/100\n",
            "20/20 [==============================] - 3s 166ms/step - loss: 0.0019\n",
            "Epoch 9/100\n",
            "20/20 [==============================] - 3s 160ms/step - loss: 0.0018\n",
            "Epoch 10/100\n",
            "20/20 [==============================] - 3s 160ms/step - loss: 0.0018\n",
            "Epoch 11/100\n",
            "20/20 [==============================] - 5s 237ms/step - loss: 0.0016\n",
            "Epoch 12/100\n",
            "20/20 [==============================] - 3s 161ms/step - loss: 0.0016\n",
            "Epoch 13/100\n",
            "20/20 [==============================] - 3s 160ms/step - loss: 0.0015\n",
            "Epoch 14/100\n",
            "20/20 [==============================] - 3s 160ms/step - loss: 0.0016\n",
            "Epoch 15/100\n",
            "20/20 [==============================] - 5s 244ms/step - loss: 0.0015\n",
            "Epoch 16/100\n",
            "20/20 [==============================] - 3s 159ms/step - loss: 0.0014\n",
            "Epoch 17/100\n",
            "20/20 [==============================] - 3s 160ms/step - loss: 0.0015\n",
            "Epoch 18/100\n",
            "20/20 [==============================] - 3s 160ms/step - loss: 0.0014\n",
            "Epoch 19/100\n",
            "20/20 [==============================] - 5s 242ms/step - loss: 0.0013\n",
            "Epoch 20/100\n",
            "20/20 [==============================] - 3s 160ms/step - loss: 0.0014\n",
            "Epoch 21/100\n",
            "20/20 [==============================] - 3s 159ms/step - loss: 0.0013\n",
            "Epoch 22/100\n",
            "20/20 [==============================] - 3s 168ms/step - loss: 0.0012\n",
            "Epoch 23/100\n",
            "20/20 [==============================] - 4s 222ms/step - loss: 0.0012\n",
            "Epoch 24/100\n",
            "20/20 [==============================] - 4s 186ms/step - loss: 0.0012\n",
            "Epoch 25/100\n",
            "20/20 [==============================] - 3s 159ms/step - loss: 0.0012\n",
            "Epoch 26/100\n",
            "20/20 [==============================] - 4s 203ms/step - loss: 0.0012\n",
            "Epoch 27/100\n",
            "20/20 [==============================] - 4s 195ms/step - loss: 0.0012\n",
            "Epoch 28/100\n",
            "20/20 [==============================] - 3s 158ms/step - loss: 0.0013\n",
            "Epoch 29/100\n",
            "20/20 [==============================] - 3s 160ms/step - loss: 0.0012\n",
            "Epoch 30/100\n",
            "20/20 [==============================] - 4s 211ms/step - loss: 0.0011\n",
            "Epoch 31/100\n",
            "20/20 [==============================] - 5s 240ms/step - loss: 0.0012\n",
            "Epoch 32/100\n",
            "20/20 [==============================] - 3s 159ms/step - loss: 0.0011\n",
            "Epoch 33/100\n",
            "20/20 [==============================] - 3s 160ms/step - loss: 0.0010\n",
            "Epoch 34/100\n",
            "20/20 [==============================] - 5s 237ms/step - loss: 0.0011\n",
            "Epoch 35/100\n",
            "20/20 [==============================] - 3s 158ms/step - loss: 0.0010\n",
            "Epoch 36/100\n",
            "20/20 [==============================] - 3s 158ms/step - loss: 0.0010\n",
            "Epoch 37/100\n",
            "20/20 [==============================] - 3s 161ms/step - loss: 9.6047e-04\n",
            "Epoch 38/100\n",
            "20/20 [==============================] - 5s 239ms/step - loss: 9.8025e-04\n",
            "Epoch 39/100\n",
            "20/20 [==============================] - 3s 159ms/step - loss: 0.0011\n",
            "Epoch 40/100\n",
            "20/20 [==============================] - 3s 161ms/step - loss: 9.9531e-04\n",
            "Epoch 41/100\n",
            "20/20 [==============================] - 3s 175ms/step - loss: 8.9709e-04\n",
            "Epoch 42/100\n",
            "20/20 [==============================] - 5s 228ms/step - loss: 8.2079e-04\n",
            "Epoch 43/100\n",
            "20/20 [==============================] - 3s 164ms/step - loss: 8.2816e-04\n",
            "Epoch 44/100\n",
            "20/20 [==============================] - 3s 160ms/step - loss: 7.6830e-04\n",
            "Epoch 45/100\n",
            "20/20 [==============================] - 4s 186ms/step - loss: 8.1449e-04\n",
            "Epoch 46/100\n",
            "20/20 [==============================] - 4s 214ms/step - loss: 7.1838e-04\n",
            "Epoch 47/100\n",
            "20/20 [==============================] - 3s 160ms/step - loss: 7.1464e-04\n",
            "Epoch 48/100\n",
            "20/20 [==============================] - 3s 160ms/step - loss: 7.9284e-04\n",
            "Epoch 49/100\n",
            "20/20 [==============================] - 4s 201ms/step - loss: 7.1971e-04\n",
            "Epoch 50/100\n",
            "20/20 [==============================] - 4s 200ms/step - loss: 6.7388e-04\n",
            "Epoch 51/100\n",
            "20/20 [==============================] - 3s 162ms/step - loss: 6.5017e-04\n",
            "Epoch 52/100\n",
            "20/20 [==============================] - 3s 159ms/step - loss: 6.2551e-04\n",
            "Epoch 53/100\n",
            "20/20 [==============================] - 4s 209ms/step - loss: 6.2409e-04\n",
            "Epoch 54/100\n",
            "20/20 [==============================] - 4s 189ms/step - loss: 6.1592e-04\n",
            "Epoch 55/100\n",
            "20/20 [==============================] - 3s 163ms/step - loss: 7.3042e-04\n",
            "Epoch 56/100\n",
            "20/20 [==============================] - 3s 159ms/step - loss: 7.7320e-04\n",
            "Epoch 57/100\n",
            "20/20 [==============================] - 4s 225ms/step - loss: 5.9560e-04\n",
            "Epoch 58/100\n",
            "20/20 [==============================] - 3s 166ms/step - loss: 6.5994e-04\n",
            "Epoch 59/100\n",
            "20/20 [==============================] - 3s 157ms/step - loss: 6.3556e-04\n",
            "Epoch 60/100\n",
            "20/20 [==============================] - 3s 158ms/step - loss: 6.0887e-04\n",
            "Epoch 61/100\n",
            "20/20 [==============================] - 5s 237ms/step - loss: 9.5461e-04\n",
            "Epoch 62/100\n",
            "20/20 [==============================] - 3s 165ms/step - loss: 5.7008e-04\n",
            "Epoch 63/100\n",
            "20/20 [==============================] - 3s 161ms/step - loss: 5.7884e-04\n",
            "Epoch 64/100\n",
            "20/20 [==============================] - 3s 160ms/step - loss: 5.7862e-04\n",
            "Epoch 65/100\n",
            "20/20 [==============================] - 5s 233ms/step - loss: 5.4392e-04\n",
            "Epoch 66/100\n",
            "20/20 [==============================] - 3s 160ms/step - loss: 5.9837e-04\n",
            "Epoch 67/100\n",
            "20/20 [==============================] - 3s 158ms/step - loss: 6.4484e-04\n",
            "Epoch 68/100\n",
            "20/20 [==============================] - 3s 159ms/step - loss: 5.3057e-04\n",
            "Epoch 69/100\n",
            "20/20 [==============================] - 5s 243ms/step - loss: 6.0789e-04\n",
            "Epoch 70/100\n",
            "20/20 [==============================] - 3s 161ms/step - loss: 5.5604e-04\n",
            "Epoch 71/100\n",
            "20/20 [==============================] - 3s 161ms/step - loss: 5.8831e-04\n",
            "Epoch 72/100\n",
            "20/20 [==============================] - 3s 173ms/step - loss: 7.0554e-04\n",
            "Epoch 73/100\n",
            "20/20 [==============================] - 5s 233ms/step - loss: 5.4268e-04\n",
            "Epoch 74/100\n",
            "20/20 [==============================] - 3s 161ms/step - loss: 5.6317e-04\n",
            "Epoch 75/100\n",
            "20/20 [==============================] - 3s 161ms/step - loss: 5.2560e-04\n",
            "Epoch 76/100\n",
            "20/20 [==============================] - 4s 180ms/step - loss: 5.0088e-04\n",
            "Epoch 77/100\n",
            "20/20 [==============================] - 4s 214ms/step - loss: 5.7241e-04\n",
            "Epoch 78/100\n",
            "20/20 [==============================] - 3s 160ms/step - loss: 6.6697e-04\n",
            "Epoch 79/100\n",
            "20/20 [==============================] - 3s 160ms/step - loss: 5.7670e-04\n",
            "Epoch 80/100\n",
            "20/20 [==============================] - 4s 201ms/step - loss: 5.8426e-04\n",
            "Epoch 81/100\n",
            "20/20 [==============================] - 4s 203ms/step - loss: 5.8201e-04\n",
            "Epoch 82/100\n",
            "20/20 [==============================] - 3s 156ms/step - loss: 4.8475e-04\n",
            "Epoch 83/100\n",
            "20/20 [==============================] - 3s 157ms/step - loss: 5.1046e-04\n",
            "Epoch 84/100\n",
            "20/20 [==============================] - 4s 198ms/step - loss: 5.0697e-04\n",
            "Epoch 85/100\n",
            "20/20 [==============================] - 4s 196ms/step - loss: 5.6791e-04\n",
            "Epoch 86/100\n",
            "20/20 [==============================] - 3s 158ms/step - loss: 5.5636e-04\n",
            "Epoch 87/100\n",
            "20/20 [==============================] - 3s 159ms/step - loss: 5.4287e-04\n",
            "Epoch 88/100\n",
            "20/20 [==============================] - 4s 210ms/step - loss: 5.8724e-04\n",
            "Epoch 89/100\n",
            "20/20 [==============================] - 4s 190ms/step - loss: 4.8375e-04\n",
            "Epoch 90/100\n",
            "20/20 [==============================] - 3s 158ms/step - loss: 5.4427e-04\n",
            "Epoch 91/100\n",
            "20/20 [==============================] - 3s 157ms/step - loss: 5.1624e-04\n",
            "Epoch 92/100\n",
            "20/20 [==============================] - 4s 211ms/step - loss: 4.7706e-04\n",
            "Epoch 93/100\n",
            "20/20 [==============================] - 4s 184ms/step - loss: 4.9517e-04\n",
            "Epoch 94/100\n",
            "20/20 [==============================] - 3s 157ms/step - loss: 4.8897e-04\n",
            "Epoch 95/100\n",
            "20/20 [==============================] - 3s 159ms/step - loss: 5.9536e-04\n",
            "Epoch 96/100\n",
            "20/20 [==============================] - 4s 223ms/step - loss: 6.3539e-04\n",
            "Epoch 97/100\n",
            "20/20 [==============================] - 4s 173ms/step - loss: 4.6172e-04\n",
            "Epoch 98/100\n",
            "20/20 [==============================] - 3s 160ms/step - loss: 4.6087e-04\n",
            "Epoch 99/100\n",
            "20/20 [==============================] - 3s 158ms/step - loss: 4.6235e-04\n",
            "Epoch 100/100\n",
            "20/20 [==============================] - 5s 236ms/step - loss: 5.5010e-04\n"
          ]
        },
        {
          "output_type": "execute_result",
          "data": {
            "text/plain": [
              "<keras.src.callbacks.History at 0x7d2af81dcca0>"
            ]
          },
          "metadata": {},
          "execution_count": 10
        }
      ]
    },
    {
      "cell_type": "code",
      "source": [
        "# 10. Dự báo dữ liệu test, val\n",
        "train_predict=model.predict(X_train)\n",
        "y_pred=model.predict(X_test)"
      ],
      "metadata": {
        "colab": {
          "base_uri": "https://localhost:8080/"
        },
        "id": "Rxx_KQSkQpBG",
        "outputId": "e425f9d3-4ff3-4a09-9a0d-ed2eb530d030"
      },
      "execution_count": 11,
      "outputs": [
        {
          "output_type": "stream",
          "name": "stdout",
          "text": [
            "39/39 [==============================] - 3s 37ms/step\n",
            "15/15 [==============================] - 1s 37ms/step\n"
          ]
        }
      ]
    },
    {
      "cell_type": "code",
      "source": [
        "# 11. Chuẩn hóa dữ liệu y_pred, y_pred_val\n",
        "train_predict=scaler.inverse_transform(train_predict)\n",
        "y_pred=scaler.inverse_transform(y_pred)"
      ],
      "metadata": {
        "id": "5rwTN10LQ7rj"
      },
      "execution_count": 12,
      "outputs": []
    },
    {
      "cell_type": "code",
      "source": [
        "# 12. Đánh giá độ chính xác thuật toán bằng RMSE\n",
        "test_rmse = np.sqrt(np.mean((y_pred - ytest)**2))\n",
        "print('Testing RMSE:', test_rmse)"
      ],
      "metadata": {
        "colab": {
          "base_uri": "https://localhost:8080/"
        },
        "id": "wu_9j94kRonD",
        "outputId": "32e0e087-55ef-46e5-abde-50e9fd53bbe9"
      },
      "execution_count": 13,
      "outputs": [
        {
          "output_type": "stream",
          "name": "stdout",
          "text": [
            "Testing RMSE: 104458.70493760594\n"
          ]
        }
      ]
    },
    {
      "cell_type": "code",
      "source": [
        "# Dự đoán 30 ngày tiếp theo\n",
        "temp_input = test_data[-time_step:].reshape(1, -1).tolist()[0]\n",
        "lst_output_30 = []\n",
        "n_steps = time_step\n",
        "for i in range(30):\n",
        "    if len(temp_input) > n_steps:\n",
        "        x_input = np.array(temp_input[-n_steps:])\n",
        "        x_input = x_input.reshape((1, n_steps, 1))\n",
        "        yhat = model.predict(x_input, verbose=0)\n",
        "        temp_input.extend(yhat[0].tolist())\n",
        "        temp_input = temp_input[1:]\n",
        "        lst_output_30.extend(yhat.tolist())\n",
        "    else:\n",
        "        x_input = np.array(temp_input)\n",
        "        x_input = x_input.reshape((1, len(temp_input), 1))\n",
        "        yhat = model.predict(x_input, verbose=0)\n",
        "        temp_input.extend(yhat[0].tolist())\n",
        "        lst_output_30.extend(yhat.tolist())"
      ],
      "metadata": {
        "id": "wAxe8LXNPhaP"
      },
      "execution_count": 14,
      "outputs": []
    },
    {
      "cell_type": "code",
      "source": [
        "\n",
        "# Chuẩn hóa lại dự đoán 30 ngày\n",
        "lst_output_30 = scaler.inverse_transform(lst_output_30)\n"
      ],
      "metadata": {
        "id": "rtDWm26YPn6t"
      },
      "execution_count": 15,
      "outputs": []
    },
    {
      "cell_type": "code",
      "source": [
        "# Dự đoán 60 ngày tiếp theo\n",
        "temp_input = test_data[-time_step:].reshape(1, -1).tolist()[0]\n",
        "lst_output_60 = []\n",
        "n_steps = time_step\n",
        "for i in range(60):\n",
        "    if len(temp_input) > n_steps:\n",
        "        x_input = np.array(temp_input[-n_steps:])\n",
        "        x_input = x_input.reshape((1, n_steps, 1))\n",
        "        yhat = model.predict(x_input, verbose=0)\n",
        "        temp_input.extend(yhat[0].tolist())\n",
        "        temp_input = temp_input[1:]\n",
        "        lst_output_60.extend(yhat.tolist())\n",
        "    else:\n",
        "        x_input = np.array(temp_input)\n",
        "        x_input = x_input.reshape((1, len(temp_input), 1))\n",
        "        yhat = model.predict(x_input, verbose=0)\n",
        "        temp_input.extend(yhat[0].tolist())\n",
        "        lst_output_60.extend(yhat.tolist())"
      ],
      "metadata": {
        "id": "LqWeUrG2Qdu0"
      },
      "execution_count": 16,
      "outputs": []
    },
    {
      "cell_type": "code",
      "source": [
        "\n",
        "# Chuẩn hóa lại dự đoán 60 ngày\n",
        "lst_output_60 = scaler.inverse_transform(lst_output_60)\n"
      ],
      "metadata": {
        "id": "EJDShcpXQkL_"
      },
      "execution_count": 17,
      "outputs": []
    },
    {
      "cell_type": "code",
      "source": [
        "# Dự đoán 90 ngày tiếp theo\n",
        "temp_input = test_data[-time_step:].reshape(1, -1).tolist()[0]\n",
        "lst_output_90 = []\n",
        "n_steps = time_step\n",
        "for i in range(90):\n",
        "    if len(temp_input) > n_steps:\n",
        "        x_input = np.array(temp_input[-n_steps:])\n",
        "        x_input = x_input.reshape((1, n_steps, 1))\n",
        "        yhat = model.predict(x_input, verbose=0)\n",
        "        temp_input.extend(yhat[0].tolist())\n",
        "        temp_input = temp_input[1:]\n",
        "        lst_output_90.extend(yhat.tolist())\n",
        "    else:\n",
        "        x_input = np.array(temp_input)\n",
        "        x_input = x_input.reshape((1, len(temp_input), 1))\n",
        "        yhat = model.predict(x_input, verbose=0)\n",
        "        temp_input.extend(yhat[0].tolist())\n",
        "        lst_output_90.extend(yhat.tolist())"
      ],
      "metadata": {
        "id": "ivJZ-zk9Q2B3"
      },
      "execution_count": 18,
      "outputs": []
    },
    {
      "cell_type": "code",
      "source": [
        "\n",
        "# Chuẩn hóa lại dự đoán 90 ngày\n",
        "lst_output_90 = scaler.inverse_transform(lst_output_90)\n"
      ],
      "metadata": {
        "id": "BLVSQlWDQ3VW"
      },
      "execution_count": 19,
      "outputs": []
    },
    {
      "cell_type": "code",
      "source": [
        "\n",
        "# Plot the results\n",
        "plt.figure(figsize=(14, 8))\n",
        "\n",
        "# Plot training data\n",
        "train_data_index = pd.RangeIndex(start=0, stop=train_size, step=1)\n",
        "plt.plot(train_data_index, scaler.inverse_transform(train_data))\n",
        "\n",
        "# Plot testing data\n",
        "test_data_index = pd.RangeIndex(start=train_size, stop=train_size + test_size, step=1)\n",
        "plt.plot(test_data_index, scaler.inverse_transform(test_data))\n",
        "\n",
        "# Plot predicted data\n",
        "y_pred_index = pd.RangeIndex(start=train_size + time_step, stop=train_size + time_step + len(y_pred), step=1)\n",
        "plt.plot(y_pred_index, y_pred)\n",
        "\n",
        "# Plot future predictions\n",
        "predict90_days_index = pd.RangeIndex(start=train_size + test_size, stop=train_size + test_size + 90, step=1)\n",
        "plt.plot(predict90_days_index, lst_output_90, color='red')\n",
        "\n",
        "\n",
        "predict60_days_index = pd.RangeIndex(start=train_size + test_size, stop=train_size + test_size + 60, step=1)\n",
        "plt.plot(predict60_days_index, lst_output_60, color='yellow')\n",
        "\n",
        "\n",
        "predict30_days_index = pd.RangeIndex(start=train_size + test_size, stop=train_size + test_size + 30, step=1)\n",
        "plt.plot(predict30_days_index, lst_output_30, color='blue')\n",
        "\n",
        "\n",
        "\n",
        "plt.legend(['Train', 'Test', 'Predict', 'Predict90days' , 'Predict60days', 'Predict30days' ])\n",
        "plt.show()"
      ],
      "metadata": {
        "colab": {
          "base_uri": "https://localhost:8080/",
          "height": 645
        },
        "id": "-ZT9QhRrhx6N",
        "outputId": "8227636b-f155-42e5-e3aa-b6ae96ef7591"
      },
      "execution_count": 20,
      "outputs": [
        {
          "output_type": "display_data",
          "data": {
            "text/plain": [
              "<Figure size 1400x800 with 1 Axes>"
            ],
            "image/png": "[encoded data removed]"
          },
          "metadata": {}
        }
      ]
    },
    {
      "cell_type": "code",
      "source": [
        "from sklearn.metrics import mean_absolute_percentage_error, mean_squared_error, r2_score\n",
        "# Tính toán MAPE và RMSE\n",
        "mape = mean_absolute_percentage_error(ytest, y_pred)\n",
        "rmse = np.sqrt(mean_squared_error(ytest, y_pred))\n",
        "mse = mean_squared_error(ytest, y_pred)\n",
        "\n",
        "print(f'RMSE: {rmse:.4f}')\n",
        "print(f'MSE: {mse:.4f}')\n",
        "print(f'MAPE: {mape:.4f}')\n",
        "\n",
        "# results_VARMA = pd.DataFrame([['VARMA', rmse, mape, mse]],\n",
        "#                columns = ['Model', 'RMSE', 'MSE', 'MAPE'])\n",
        "# results_VARMA"
      ],
      "metadata": {
        "colab": {
          "base_uri": "https://localhost:8080/"
        },
        "id": "Y7GtIL6S400R",
        "outputId": "e6c3d10e-1588-4aec-93e0-682398468a29"
      },
      "execution_count": 21,
      "outputs": [
        {
          "output_type": "stream",
          "name": "stdout",
          "text": [
            "RMSE: 104458.6987\n",
            "MSE: 10911619739.2885\n",
            "MAPE: 236914.1924\n"
          ]
        }
      ]
    }
  ],
  "metadata": {
    "colab": {
      "provenance": []
    },
    "kernelspec": {
      "display_name": "Python 3",
      "name": "python3"
    },
    "language_info": {
      "name": "python"
    }
  },
  "nbformat": 4,
  "nbformat_minor": 0
}