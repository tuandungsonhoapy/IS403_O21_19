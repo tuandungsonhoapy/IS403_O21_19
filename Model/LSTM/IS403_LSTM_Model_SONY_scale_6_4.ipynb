{
  "cells": [
    {
      "cell_type": "code",
      "source": [
        "\n",
        "import numpy as np\n",
        "import pandas as pd\n",
        "import matplotlib.pyplot as plt\n",
        "from sklearn.preprocessing import MinMaxScaler\n",
        "from keras.models import Sequential\n",
        "from keras.layers import Dense, LSTM"
      ],
      "metadata": {
        "id": "FMDKda-XIUAK"
      },
      "execution_count": 2,
      "outputs": []
    },
    {
      "cell_type": "code",
      "source": [
        "df = pd.read_csv('/content/SONY.csv')\n",
        "df1=df.reset_index()['Close']"
      ],
      "metadata": {
        "id": "Qks3MuwbWZ_W"
      },
      "execution_count": 3,
      "outputs": []
    },
    {
      "cell_type": "code",
      "source": [
        "df1"
      ],
      "metadata": {
        "id": "aRm9GQ8KJJ5N",
        "colab": {
          "base_uri": "https://localhost:8080/"
        },
        "outputId": "dff44cc9-e713-4cc2-d4df-453e9a7cf7ac"
      },
      "execution_count": 4,
      "outputs": [
        {
          "output_type": "execute_result",
          "data": {
            "text/plain": [
              "0       47.89\n",
              "1       47.89\n",
              "2       47.89\n",
              "3       47.62\n",
              "4       47.66\n",
              "        ...  \n",
              "1915    79.86\n",
              "1916    78.45\n",
              "1917    80.79\n",
              "1918    82.34\n",
              "1919    80.36\n",
              "Name: Close, Length: 1920, dtype: float64"
            ]
          },
          "metadata": {},
          "execution_count": 4
        }
      ]
    },
    {
      "cell_type": "code",
      "source": [
        "# 3. Scaler data\n",
        "scaler=MinMaxScaler(feature_range=(0,1))\n",
        "df1=scaler.fit_transform(np.array(df1).reshape(-1,1))"
      ],
      "metadata": {
        "id": "RdVpDho2JgL5"
      },
      "execution_count": 5,
      "outputs": []
    },
    {
      "cell_type": "code",
      "source": [
        "# 4. Chia train test\n",
        "train_size = int(0.6 * len(df1))\n",
        "test_size = int(0.4 * len(df1))\n",
        "\n",
        "train_data = df1[:train_size]\n",
        "test_data = df1[train_size:train_size+test_size]"
      ],
      "metadata": {
        "id": "B5JXpenzJoR3"
      },
      "execution_count": 6,
      "outputs": []
    },
    {
      "cell_type": "code",
      "source": [
        "# 5. Hàm Create Dataset\n",
        "import numpy\n",
        "# convert an array of values into a dataset matrix\n",
        "def create_dataset(dataset, time_step=1):\n",
        "\tdataX, dataY = [], []\n",
        "\tfor i in range(len(dataset)-time_step-1):\n",
        "\t\ta = dataset[i:(i+time_step), 0]   ###i=0, X=0,1,2,3-----99   Y=100\n",
        "\t\tdataX.append(a)\n",
        "\t\tdataY.append(dataset[i + time_step, 0])\n",
        "\treturn numpy.array(dataX), numpy.array(dataY)"
      ],
      "metadata": {
        "id": "yJfmuBORLSfC"
      },
      "execution_count": 7,
      "outputs": []
    },
    {
      "cell_type": "code",
      "source": [
        "#6. Reshape into X=t,t+1,t+2..t+99 and Y=t+100\n",
        "\n",
        "time_step = 100\n",
        "X_train, y_train = create_dataset(train_data, time_step)\n",
        "X_test, ytest = create_dataset(test_data, time_step)"
      ],
      "metadata": {
        "id": "e81cKq03LXFB"
      },
      "execution_count": 8,
      "outputs": []
    },
    {
      "cell_type": "code",
      "source": [
        "# 7. Reshape input to be [samples, time steps, features] which is required for LSTM\n",
        "X_train =X_train.reshape(X_train.shape[0],X_train.shape[1] , 1)\n",
        "X_test = X_test.reshape(X_test.shape[0],X_test.shape[1] , 1)"
      ],
      "metadata": {
        "id": "RdBVfku7O2qb"
      },
      "execution_count": 9,
      "outputs": []
    },
    {
      "cell_type": "code",
      "source": [
        "# 8. Define LSTM Model\n",
        "\n",
        "model=Sequential()\n",
        "model.add(LSTM(50,return_sequences=True,input_shape=(100,1)))\n",
        "model.add(LSTM(50,return_sequences=True))\n",
        "model.add(LSTM(50))\n",
        "model.add(Dense(1))\n",
        "model.compile(loss='mean_squared_error',optimizer='adam')"
      ],
      "metadata": {
        "id": "sSfxrE7BO9vX"
      },
      "execution_count": 10,
      "outputs": []
    },
    {
      "cell_type": "code",
      "source": [
        "# 9. Fit mô hình với dữ liệu train\n",
        "model.fit(X_train,y_train, epochs=100,batch_size=64,verbose=1)"
      ],
      "metadata": {
        "colab": {
          "base_uri": "https://localhost:8080/"
        },
        "id": "zgfeujZSPEKr",
        "outputId": "7dc63319-35f3-4600-f255-cd10021ea4c9"
      },
      "execution_count": 11,
      "outputs": [
        {
          "output_type": "stream",
          "name": "stdout",
          "text": [
            "Epoch 1/100\n",
            "17/17 [==============================] - 9s 176ms/step - loss: 0.0882\n",
            "Epoch 2/100\n",
            "17/17 [==============================] - 4s 265ms/step - loss: 0.0106\n",
            "Epoch 3/100\n",
            "17/17 [==============================] - 3s 173ms/step - loss: 0.0037\n",
            "Epoch 4/100\n",
            "17/17 [==============================] - 3s 186ms/step - loss: 0.0023\n",
            "Epoch 5/100\n",
            "17/17 [==============================] - 3s 184ms/step - loss: 0.0022\n",
            "Epoch 6/100\n",
            "17/17 [==============================] - 4s 270ms/step - loss: 0.0023\n",
            "Epoch 7/100\n",
            "17/17 [==============================] - 3s 170ms/step - loss: 0.0022\n",
            "Epoch 8/100\n",
            "17/17 [==============================] - 3s 171ms/step - loss: 0.0021\n",
            "Epoch 9/100\n",
            "17/17 [==============================] - 3s 174ms/step - loss: 0.0019\n",
            "Epoch 10/100\n",
            "17/17 [==============================] - 4s 253ms/step - loss: 0.0019\n",
            "Epoch 11/100\n",
            "17/17 [==============================] - 3s 187ms/step - loss: 0.0020\n",
            "Epoch 12/100\n",
            "17/17 [==============================] - 3s 173ms/step - loss: 0.0017\n",
            "Epoch 13/100\n",
            "17/17 [==============================] - 3s 174ms/step - loss: 0.0017\n",
            "Epoch 14/100\n",
            "17/17 [==============================] - 4s 223ms/step - loss: 0.0016\n",
            "Epoch 15/100\n",
            "17/17 [==============================] - 4s 215ms/step - loss: 0.0015\n",
            "Epoch 16/100\n",
            "17/17 [==============================] - 3s 176ms/step - loss: 0.0015\n",
            "Epoch 17/100\n",
            "17/17 [==============================] - 3s 174ms/step - loss: 0.0015\n",
            "Epoch 18/100\n",
            "17/17 [==============================] - 4s 209ms/step - loss: 0.0014\n",
            "Epoch 19/100\n",
            "17/17 [==============================] - 4s 240ms/step - loss: 0.0016\n",
            "Epoch 20/100\n",
            "17/17 [==============================] - 3s 173ms/step - loss: 0.0013\n",
            "Epoch 21/100\n",
            "17/17 [==============================] - 3s 174ms/step - loss: 0.0012\n",
            "Epoch 22/100\n",
            "17/17 [==============================] - 3s 185ms/step - loss: 0.0011\n",
            "Epoch 23/100\n",
            "17/17 [==============================] - 4s 254ms/step - loss: 0.0010\n",
            "Epoch 24/100\n",
            "17/17 [==============================] - 3s 172ms/step - loss: 9.6886e-04\n",
            "Epoch 25/100\n",
            "17/17 [==============================] - 3s 175ms/step - loss: 9.5676e-04\n",
            "Epoch 26/100\n",
            "17/17 [==============================] - 4s 247ms/step - loss: 0.0012\n",
            "Epoch 27/100\n",
            "17/17 [==============================] - 7s 407ms/step - loss: 0.0010\n",
            "Epoch 28/100\n",
            "17/17 [==============================] - 3s 178ms/step - loss: 8.8103e-04\n",
            "Epoch 29/100\n",
            "17/17 [==============================] - 3s 175ms/step - loss: 8.7753e-04\n",
            "Epoch 30/100\n",
            "17/17 [==============================] - 5s 276ms/step - loss: 9.1155e-04\n",
            "Epoch 31/100\n",
            "17/17 [==============================] - 3s 175ms/step - loss: 8.4932e-04\n",
            "Epoch 32/100\n",
            "17/17 [==============================] - 3s 174ms/step - loss: 8.9389e-04\n",
            "Epoch 33/100\n",
            "17/17 [==============================] - 3s 179ms/step - loss: 8.1093e-04\n",
            "Epoch 34/100\n",
            "17/17 [==============================] - 4s 269ms/step - loss: 0.0010\n",
            "Epoch 35/100\n",
            "17/17 [==============================] - 3s 185ms/step - loss: 7.6933e-04\n",
            "Epoch 36/100\n",
            "17/17 [==============================] - 3s 174ms/step - loss: 8.8037e-04\n",
            "Epoch 37/100\n",
            "17/17 [==============================] - 3s 174ms/step - loss: 8.3916e-04\n",
            "Epoch 38/100\n",
            "17/17 [==============================] - 4s 258ms/step - loss: 8.7932e-04\n",
            "Epoch 39/100\n",
            "17/17 [==============================] - 3s 187ms/step - loss: 7.9271e-04\n",
            "Epoch 40/100\n",
            "17/17 [==============================] - 3s 175ms/step - loss: 7.2598e-04\n",
            "Epoch 41/100\n",
            "17/17 [==============================] - 3s 173ms/step - loss: 8.2084e-04\n",
            "Epoch 42/100\n",
            "17/17 [==============================] - 4s 230ms/step - loss: 8.1011e-04\n",
            "Epoch 43/100\n",
            "17/17 [==============================] - 3s 199ms/step - loss: 8.0494e-04\n",
            "Epoch 44/100\n",
            "17/17 [==============================] - 3s 178ms/step - loss: 7.2683e-04\n",
            "Epoch 45/100\n",
            "17/17 [==============================] - 3s 177ms/step - loss: 6.8369e-04\n",
            "Epoch 46/100\n",
            "17/17 [==============================] - 4s 238ms/step - loss: 6.6835e-04\n",
            "Epoch 47/100\n",
            "17/17 [==============================] - 4s 201ms/step - loss: 6.5388e-04\n",
            "Epoch 48/100\n",
            "17/17 [==============================] - 3s 177ms/step - loss: 6.8935e-04\n",
            "Epoch 49/100\n",
            "17/17 [==============================] - 3s 178ms/step - loss: 6.3678e-04\n",
            "Epoch 50/100\n",
            "17/17 [==============================] - 4s 232ms/step - loss: 6.6360e-04\n",
            "Epoch 51/100\n",
            "17/17 [==============================] - 4s 224ms/step - loss: 6.5995e-04\n",
            "Epoch 52/100\n",
            "17/17 [==============================] - 3s 184ms/step - loss: 6.8902e-04\n",
            "Epoch 53/100\n",
            "17/17 [==============================] - 3s 178ms/step - loss: 7.0421e-04\n",
            "Epoch 54/100\n",
            "17/17 [==============================] - 4s 238ms/step - loss: 6.5148e-04\n",
            "Epoch 55/100\n",
            "17/17 [==============================] - 4s 208ms/step - loss: 6.0270e-04\n",
            "Epoch 56/100\n",
            "17/17 [==============================] - 3s 176ms/step - loss: 6.5280e-04\n",
            "Epoch 57/100\n",
            "17/17 [==============================] - 3s 173ms/step - loss: 6.0662e-04\n",
            "Epoch 58/100\n",
            "17/17 [==============================] - 4s 218ms/step - loss: 7.1416e-04\n",
            "Epoch 59/100\n",
            "17/17 [==============================] - 4s 207ms/step - loss: 6.7362e-04\n",
            "Epoch 60/100\n",
            "17/17 [==============================] - 3s 180ms/step - loss: 6.0455e-04\n",
            "Epoch 61/100\n",
            "17/17 [==============================] - 3s 173ms/step - loss: 5.8217e-04\n",
            "Epoch 62/100\n",
            "17/17 [==============================] - 4s 221ms/step - loss: 5.8381e-04\n",
            "Epoch 63/100\n",
            "17/17 [==============================] - 4s 222ms/step - loss: 6.0019e-04\n",
            "Epoch 64/100\n",
            "17/17 [==============================] - 3s 174ms/step - loss: 6.0500e-04\n",
            "Epoch 65/100\n",
            "17/17 [==============================] - 3s 174ms/step - loss: 6.3811e-04\n",
            "Epoch 66/100\n",
            "17/17 [==============================] - 3s 204ms/step - loss: 7.1470e-04\n",
            "Epoch 67/100\n",
            "17/17 [==============================] - 4s 239ms/step - loss: 5.7592e-04\n",
            "Epoch 68/100\n",
            "17/17 [==============================] - 3s 178ms/step - loss: 5.8826e-04\n",
            "Epoch 69/100\n",
            "17/17 [==============================] - 3s 178ms/step - loss: 5.6477e-04\n",
            "Epoch 70/100\n",
            "17/17 [==============================] - 3s 195ms/step - loss: 5.6173e-04\n",
            "Epoch 71/100\n",
            "17/17 [==============================] - 4s 236ms/step - loss: 7.3599e-04\n",
            "Epoch 72/100\n",
            "17/17 [==============================] - 3s 177ms/step - loss: 6.3370e-04\n",
            "Epoch 73/100\n",
            "17/17 [==============================] - 3s 175ms/step - loss: 6.3486e-04\n",
            "Epoch 74/100\n",
            "17/17 [==============================] - 3s 194ms/step - loss: 5.6534e-04\n",
            "Epoch 75/100\n",
            "17/17 [==============================] - 4s 245ms/step - loss: 5.5350e-04\n",
            "Epoch 76/100\n",
            "17/17 [==============================] - 3s 176ms/step - loss: 5.7652e-04\n",
            "Epoch 77/100\n",
            "17/17 [==============================] - 3s 173ms/step - loss: 5.4384e-04\n",
            "Epoch 78/100\n",
            "17/17 [==============================] - 3s 178ms/step - loss: 5.4136e-04\n",
            "Epoch 79/100\n",
            "17/17 [==============================] - 5s 266ms/step - loss: 5.3872e-04\n",
            "Epoch 80/100\n",
            "17/17 [==============================] - 3s 175ms/step - loss: 5.2818e-04\n",
            "Epoch 81/100\n",
            "17/17 [==============================] - 3s 176ms/step - loss: 5.4058e-04\n",
            "Epoch 82/100\n",
            "17/17 [==============================] - 3s 176ms/step - loss: 5.0444e-04\n",
            "Epoch 83/100\n",
            "17/17 [==============================] - 4s 261ms/step - loss: 6.3247e-04\n",
            "Epoch 84/100\n",
            "17/17 [==============================] - 3s 173ms/step - loss: 6.9732e-04\n",
            "Epoch 85/100\n",
            "17/17 [==============================] - 3s 175ms/step - loss: 6.1321e-04\n",
            "Epoch 86/100\n",
            "17/17 [==============================] - 3s 178ms/step - loss: 7.8458e-04\n",
            "Epoch 87/100\n",
            "17/17 [==============================] - 5s 276ms/step - loss: 5.7008e-04\n",
            "Epoch 88/100\n",
            "17/17 [==============================] - 3s 173ms/step - loss: 5.4074e-04\n",
            "Epoch 89/100\n",
            "17/17 [==============================] - 3s 177ms/step - loss: 5.4330e-04\n",
            "Epoch 90/100\n",
            "17/17 [==============================] - 3s 175ms/step - loss: 5.0750e-04\n",
            "Epoch 91/100\n",
            "17/17 [==============================] - 4s 262ms/step - loss: 5.0344e-04\n",
            "Epoch 92/100\n",
            "17/17 [==============================] - 3s 178ms/step - loss: 5.6600e-04\n",
            "Epoch 93/100\n",
            "17/17 [==============================] - 3s 175ms/step - loss: 5.4401e-04\n",
            "Epoch 94/100\n",
            "17/17 [==============================] - 3s 175ms/step - loss: 5.0659e-04\n",
            "Epoch 95/100\n",
            "17/17 [==============================] - 4s 244ms/step - loss: 4.9056e-04\n",
            "Epoch 96/100\n",
            "17/17 [==============================] - 4s 201ms/step - loss: 4.8605e-04\n",
            "Epoch 97/100\n",
            "17/17 [==============================] - 3s 175ms/step - loss: 5.0211e-04\n",
            "Epoch 98/100\n",
            "17/17 [==============================] - 3s 177ms/step - loss: 5.6799e-04\n",
            "Epoch 99/100\n",
            "17/17 [==============================] - 4s 239ms/step - loss: 5.2009e-04\n",
            "Epoch 100/100\n",
            "17/17 [==============================] - 4s 202ms/step - loss: 4.8893e-04\n"
          ]
        },
        {
          "output_type": "execute_result",
          "data": {
            "text/plain": [
              "<keras.src.callbacks.History at 0x7dd6b263db10>"
            ]
          },
          "metadata": {},
          "execution_count": 11
        }
      ]
    },
    {
      "cell_type": "code",
      "source": [
        "# 10. Dự báo dữ liệu test, val\n",
        "train_predict=model.predict(X_train)\n",
        "y_pred=model.predict(X_test)"
      ],
      "metadata": {
        "colab": {
          "base_uri": "https://localhost:8080/"
        },
        "id": "Rxx_KQSkQpBG",
        "outputId": "091647b1-ec17-4c2e-8536-70b52ead99dc"
      },
      "execution_count": 12,
      "outputs": [
        {
          "output_type": "stream",
          "name": "stdout",
          "text": [
            "33/33 [==============================] - 3s 44ms/step\n",
            "21/21 [==============================] - 1s 62ms/step\n"
          ]
        }
      ]
    },
    {
      "cell_type": "code",
      "source": [
        "# 11. Chuẩn hóa dữ liệu y_pred, y_pred_val\n",
        "train_predict=scaler.inverse_transform(train_predict)\n",
        "y_pred=scaler.inverse_transform(y_pred)"
      ],
      "metadata": {
        "id": "5rwTN10LQ7rj"
      },
      "execution_count": 13,
      "outputs": []
    },
    {
      "cell_type": "code",
      "source": [
        "# 12. Đánh giá độ chính xác thuật toán bằng RMSE\n",
        "test_rmse = np.sqrt(np.mean((y_pred - ytest)**2))\n",
        "print('Testing RMSE:', test_rmse)"
      ],
      "metadata": {
        "colab": {
          "base_uri": "https://localhost:8080/"
        },
        "id": "wu_9j94kRonD",
        "outputId": "6e6c6ed3-12e5-452e-9560-b7c8c7d6c535"
      },
      "execution_count": 14,
      "outputs": [
        {
          "output_type": "stream",
          "name": "stdout",
          "text": [
            "Testing RMSE: 86.58717471168269\n"
          ]
        }
      ]
    },
    {
      "cell_type": "code",
      "source": [
        "# Dự đoán 30 ngày tiếp theo\n",
        "temp_input = test_data[-time_step:].reshape(1, -1).tolist()[0]\n",
        "lst_output_30 = []\n",
        "n_steps = time_step\n",
        "for i in range(30):\n",
        "    if len(temp_input) > n_steps:\n",
        "        x_input = np.array(temp_input[-n_steps:])\n",
        "        x_input = x_input.reshape((1, n_steps, 1))\n",
        "        yhat = model.predict(x_input, verbose=0)\n",
        "        temp_input.extend(yhat[0].tolist())\n",
        "        temp_input = temp_input[1:]\n",
        "        lst_output_30.extend(yhat.tolist())\n",
        "    else:\n",
        "        x_input = np.array(temp_input)\n",
        "        x_input = x_input.reshape((1, len(temp_input), 1))\n",
        "        yhat = model.predict(x_input, verbose=0)\n",
        "        temp_input.extend(yhat[0].tolist())\n",
        "        lst_output_30.extend(yhat.tolist())"
      ],
      "metadata": {
        "id": "wAxe8LXNPhaP"
      },
      "execution_count": 15,
      "outputs": []
    },
    {
      "cell_type": "code",
      "source": [
        "\n",
        "# Chuẩn hóa lại dự đoán 30 ngày\n",
        "lst_output_30 = scaler.inverse_transform(lst_output_30)\n"
      ],
      "metadata": {
        "id": "rtDWm26YPn6t"
      },
      "execution_count": 16,
      "outputs": []
    },
    {
      "cell_type": "code",
      "source": [
        "# Dự đoán 60 ngày tiếp theo\n",
        "temp_input = test_data[-time_step:].reshape(1, -1).tolist()[0]\n",
        "lst_output_60 = []\n",
        "n_steps = time_step\n",
        "for i in range(60):\n",
        "    if len(temp_input) > n_steps:\n",
        "        x_input = np.array(temp_input[-n_steps:])\n",
        "        x_input = x_input.reshape((1, n_steps, 1))\n",
        "        yhat = model.predict(x_input, verbose=0)\n",
        "        temp_input.extend(yhat[0].tolist())\n",
        "        temp_input = temp_input[1:]\n",
        "        lst_output_60.extend(yhat.tolist())\n",
        "    else:\n",
        "        x_input = np.array(temp_input)\n",
        "        x_input = x_input.reshape((1, len(temp_input), 1))\n",
        "        yhat = model.predict(x_input, verbose=0)\n",
        "        temp_input.extend(yhat[0].tolist())\n",
        "        lst_output_60.extend(yhat.tolist())"
      ],
      "metadata": {
        "id": "LqWeUrG2Qdu0"
      },
      "execution_count": 17,
      "outputs": []
    },
    {
      "cell_type": "code",
      "source": [
        "\n",
        "# Chuẩn hóa lại dự đoán 60 ngày\n",
        "lst_output_60 = scaler.inverse_transform(lst_output_60)\n"
      ],
      "metadata": {
        "id": "EJDShcpXQkL_"
      },
      "execution_count": 18,
      "outputs": []
    },
    {
      "cell_type": "code",
      "source": [
        "# Dự đoán 90 ngày tiếp theo\n",
        "temp_input = test_data[-time_step:].reshape(1, -1).tolist()[0]\n",
        "lst_output_90 = []\n",
        "n_steps = time_step\n",
        "for i in range(90):\n",
        "    if len(temp_input) > n_steps:\n",
        "        x_input = np.array(temp_input[-n_steps:])\n",
        "        x_input = x_input.reshape((1, n_steps, 1))\n",
        "        yhat = model.predict(x_input, verbose=0)\n",
        "        temp_input.extend(yhat[0].tolist())\n",
        "        temp_input = temp_input[1:]\n",
        "        lst_output_90.extend(yhat.tolist())\n",
        "    else:\n",
        "        x_input = np.array(temp_input)\n",
        "        x_input = x_input.reshape((1, len(temp_input), 1))\n",
        "        yhat = model.predict(x_input, verbose=0)\n",
        "        temp_input.extend(yhat[0].tolist())\n",
        "        lst_output_90.extend(yhat.tolist())"
      ],
      "metadata": {
        "id": "ivJZ-zk9Q2B3"
      },
      "execution_count": 19,
      "outputs": []
    },
    {
      "cell_type": "code",
      "source": [
        "\n",
        "# Chuẩn hóa lại dự đoán 90 ngày\n",
        "lst_output_90 = scaler.inverse_transform(lst_output_90)\n"
      ],
      "metadata": {
        "id": "BLVSQlWDQ3VW"
      },
      "execution_count": 20,
      "outputs": []
    },
    {
      "cell_type": "code",
      "source": [
        "\n",
        "# Plot the results\n",
        "plt.figure(figsize=(14, 8))\n",
        "\n",
        "# Plot training data\n",
        "train_data_index = pd.RangeIndex(start=0, stop=train_size, step=1)\n",
        "plt.plot(train_data_index, scaler.inverse_transform(train_data))\n",
        "\n",
        "# Plot testing data\n",
        "test_data_index = pd.RangeIndex(start=train_size, stop=train_size + test_size, step=1)\n",
        "plt.plot(test_data_index, scaler.inverse_transform(test_data))\n",
        "\n",
        "# Plot predicted data\n",
        "y_pred_index = pd.RangeIndex(start=train_size + time_step, stop=train_size + time_step + len(y_pred), step=1)\n",
        "plt.plot(y_pred_index, y_pred)\n",
        "\n",
        "# Plot future predictions\n",
        "predict90_days_index = pd.RangeIndex(start=train_size + test_size, stop=train_size + test_size + 90, step=1)\n",
        "plt.plot(predict90_days_index, lst_output_90, color='red')\n",
        "\n",
        "\n",
        "predict60_days_index = pd.RangeIndex(start=train_size + test_size, stop=train_size + test_size + 60, step=1)\n",
        "plt.plot(predict60_days_index, lst_output_60, color='yellow')\n",
        "\n",
        "\n",
        "predict30_days_index = pd.RangeIndex(start=train_size + test_size, stop=train_size + test_size + 30, step=1)\n",
        "plt.plot(predict30_days_index, lst_output_30, color='blue')\n",
        "\n",
        "\n",
        "\n",
        "plt.legend(['Train', 'Test', 'Predict', 'Predict90days' , 'Predict60days', 'Predict30days' ])\n",
        "plt.show()"
      ],
      "metadata": {
        "colab": {
          "base_uri": "https://localhost:8080/",
          "height": 676
        },
        "id": "-ZT9QhRrhx6N",
        "outputId": "5d302ed6-5132-4236-cec6-5ba7a9e6e791"
      },
      "execution_count": 21,
      "outputs": [
        {
          "output_type": "display_data",
          "data": {
            "text/plain": [
              "<Figure size 1400x800 with 1 Axes>"
            ],
            "image/png": "[encoded data removed]"
          },
          "metadata": {}
        }
      ]
    },
    {
      "cell_type": "code",
      "source": [
        "from sklearn.metrics import mean_absolute_percentage_error, mean_squared_error, r2_score\n",
        "# Tính toán MAPE và RMSE\n",
        "mape = mean_absolute_percentage_error(ytest, y_pred)\n",
        "rmse = np.sqrt(mean_squared_error(ytest, y_pred))\n",
        "mse = mean_squared_error(ytest, y_pred)\n",
        "\n",
        "print(f'RMSE: {rmse:.4f}')\n",
        "print(f'MSE: {mse:.4f}')\n",
        "print(f'MAPE: {mape:.4f}')\n",
        "\n",
        "# results_VARMA = pd.DataFrame([['VARMA', rmse, mape, mse]],\n",
        "#                columns = ['Model', 'RMSE', 'MSE', 'MAPE'])\n",
        "# results_VARMA"
      ],
      "metadata": {
        "colab": {
          "base_uri": "https://localhost:8080/"
        },
        "id": "TIrQMGpL4bnX",
        "outputId": "889c9aab-a03a-4d67-8e48-8f93f2a79bc1"
      },
      "execution_count": 22,
      "outputs": [
        {
          "output_type": "stream",
          "name": "stdout",
          "text": [
            "RMSE: 86.5793\n",
            "MSE: 7495.9837\n",
            "MAPE: 174.7132\n"
          ]
        }
      ]
    },
    {
      "cell_type": "code",
      "source": [
        "from sklearn.metrics import mean_absolute_percentage_error, mean_squared_error, r2_score\n",
        "# Tính toán MAPE và RMSE\n",
        "mape = mean_absolute_percentage_error(ytest, y_pred)\n",
        "rmse = np.sqrt(mean_squared_error(ytest, y_pred))\n",
        "mse = mean_squared_error(ytest, y_pred)\n",
        "\n",
        "print(f'RMSE: {rmse:.4f}')\n",
        "print(f'MSE: {mse:.4f}')\n",
        "print(f'MAPE: {mape:.4f}')\n",
        "\n",
        "# results_VARMA = pd.DataFrame([['VARMA', rmse, mape, mse]],\n",
        "#                columns = ['Model', 'RMSE', 'MSE', 'MAPE'])\n",
        "# results_VARMA"
      ],
      "metadata": {
        "colab": {
          "base_uri": "https://localhost:8080/"
        },
        "id": "78xUGfSZ7mjK",
        "outputId": "67f31959-dec8-4aa4-8eeb-862bc5d561eb"
      },
      "execution_count": 23,
      "outputs": [
        {
          "output_type": "stream",
          "name": "stdout",
          "text": [
            "RMSE: 86.5793\n",
            "MSE: 7495.9837\n",
            "MAPE: 174.7132\n"
          ]
        }
      ]
    }
  ],
  "metadata": {
    "colab": {
      "provenance": []
    },
    "kernelspec": {
      "display_name": "Python 3",
      "name": "python3"
    },
    "language_info": {
      "name": "python"
    }
  },
  "nbformat": 4,
  "nbformat_minor": 0
}