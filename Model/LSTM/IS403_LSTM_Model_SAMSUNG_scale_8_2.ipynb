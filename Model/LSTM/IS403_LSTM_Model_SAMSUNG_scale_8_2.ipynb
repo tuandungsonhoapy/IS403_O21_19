{
  "cells": [
    {
      "cell_type": "code",
      "source": [
        "\n",
        "import numpy as np\n",
        "import pandas as pd\n",
        "import matplotlib.pyplot as plt\n",
        "from sklearn.preprocessing import MinMaxScaler\n",
        "from keras.models import Sequential\n",
        "from keras.layers import Dense, LSTM"
      ],
      "metadata": {
        "id": "FMDKda-XIUAK"
      },
      "execution_count": 61,
      "outputs": []
    },
    {
      "cell_type": "code",
      "source": [
        "df = pd.read_csv('/content/SAMSUNG.csv')\n",
        "df1=df.reset_index()['Close']"
      ],
      "metadata": {
        "id": "Qks3MuwbWZ_W"
      },
      "execution_count": 62,
      "outputs": []
    },
    {
      "cell_type": "code",
      "source": [
        "df1"
      ],
      "metadata": {
        "id": "aRm9GQ8KJJ5N",
        "colab": {
          "base_uri": "https://localhost:8080/"
        },
        "outputId": "86d3eba3-831d-44a9-c9ce-d7f27193f50b"
      },
      "execution_count": 63,
      "outputs": [
        {
          "output_type": "execute_result",
          "data": {
            "text/plain": [
              "0       44387.5\n",
              "1       44387.5\n",
              "2       44387.5\n",
              "3       44850.0\n",
              "4       44250.0\n",
              "         ...   \n",
              "1915    77600.0\n",
              "1916    75200.0\n",
              "1917    73500.0\n",
              "1918    73500.0\n",
              "1919    75400.0\n",
              "Name: Close, Length: 1920, dtype: float64"
            ]
          },
          "metadata": {},
          "execution_count": 63
        }
      ]
    },
    {
      "cell_type": "code",
      "source": [
        "# 3. Scaler data\n",
        "scaler=MinMaxScaler(feature_range=(0,1))\n",
        "df1=scaler.fit_transform(np.array(df1).reshape(-1,1))"
      ],
      "metadata": {
        "id": "RdVpDho2JgL5"
      },
      "execution_count": 64,
      "outputs": []
    },
    {
      "cell_type": "code",
      "source": [
        "# 4. Chia train test\n",
        "train_size = int(0.8 * len(df1))\n",
        "test_size = int(0.2 * len(df1))\n",
        "\n",
        "train_data = df1[:train_size]\n",
        "test_data = df1[train_size:train_size+test_size]"
      ],
      "metadata": {
        "id": "B5JXpenzJoR3"
      },
      "execution_count": 65,
      "outputs": []
    },
    {
      "cell_type": "code",
      "source": [
        "# 5. Hàm Create Dataset\n",
        "import numpy\n",
        "# convert an array of values into a dataset matrix\n",
        "def create_dataset(dataset, time_step=1):\n",
        "\tdataX, dataY = [], []\n",
        "\tfor i in range(len(dataset)-time_step-1):\n",
        "\t\ta = dataset[i:(i+time_step), 0]   ###i=0, X=0,1,2,3-----99   Y=100\n",
        "\t\tdataX.append(a)\n",
        "\t\tdataY.append(dataset[i + time_step, 0])\n",
        "\treturn numpy.array(dataX), numpy.array(dataY)"
      ],
      "metadata": {
        "id": "yJfmuBORLSfC"
      },
      "execution_count": 66,
      "outputs": []
    },
    {
      "cell_type": "code",
      "source": [
        "#6. Reshape into X=t,t+1,t+2..t+99 and Y=t+100\n",
        "\n",
        "time_step = 100\n",
        "X_train, y_train = create_dataset(train_data, time_step)\n",
        "X_test, ytest = create_dataset(test_data, time_step)"
      ],
      "metadata": {
        "id": "e81cKq03LXFB"
      },
      "execution_count": 67,
      "outputs": []
    },
    {
      "cell_type": "code",
      "source": [
        "# 7. Reshape input to be [samples, time steps, features] which is required for LSTM\n",
        "X_train =X_train.reshape(X_train.shape[0],X_train.shape[1] , 1)\n",
        "X_test = X_test.reshape(X_test.shape[0],X_test.shape[1] , 1)"
      ],
      "metadata": {
        "id": "RdBVfku7O2qb"
      },
      "execution_count": 68,
      "outputs": []
    },
    {
      "cell_type": "code",
      "source": [
        "# 8. Define LSTM Model\n",
        "\n",
        "model=Sequential()\n",
        "model.add(LSTM(50,return_sequences=True,input_shape=(100,1)))\n",
        "model.add(LSTM(50,return_sequences=True))\n",
        "model.add(LSTM(50))\n",
        "model.add(Dense(1))\n",
        "model.compile(loss='mean_squared_error',optimizer='adam')"
      ],
      "metadata": {
        "id": "sSfxrE7BO9vX"
      },
      "execution_count": 69,
      "outputs": []
    },
    {
      "cell_type": "code",
      "source": [
        "# 9. Fit mô hình với dữ liệu train\n",
        "model.fit(X_train,y_train, epochs=100,batch_size=64,verbose=1)"
      ],
      "metadata": {
        "colab": {
          "base_uri": "https://localhost:8080/"
        },
        "id": "zgfeujZSPEKr",
        "outputId": "1c04eee4-b42c-45d0-a5e9-bed762ffc93d"
      },
      "execution_count": 70,
      "outputs": [
        {
          "output_type": "stream",
          "name": "stdout",
          "text": [
            "Epoch 1/100\n",
            "23/23 [==============================] - 10s 186ms/step - loss: 0.0427\n",
            "Epoch 2/100\n",
            "23/23 [==============================] - 5s 222ms/step - loss: 0.0045\n",
            "Epoch 3/100\n",
            "23/23 [==============================] - 4s 167ms/step - loss: 0.0024\n",
            "Epoch 4/100\n",
            "23/23 [==============================] - 5s 236ms/step - loss: 0.0022\n",
            "Epoch 5/100\n",
            "23/23 [==============================] - 5s 222ms/step - loss: 0.0021\n",
            "Epoch 6/100\n",
            "23/23 [==============================] - 4s 173ms/step - loss: 0.0020\n",
            "Epoch 7/100\n",
            "23/23 [==============================] - 4s 169ms/step - loss: 0.0019\n",
            "Epoch 8/100\n",
            "23/23 [==============================] - 6s 246ms/step - loss: 0.0018\n",
            "Epoch 9/100\n",
            "23/23 [==============================] - 4s 169ms/step - loss: 0.0017\n",
            "Epoch 10/100\n",
            "23/23 [==============================] - 4s 170ms/step - loss: 0.0017\n",
            "Epoch 11/100\n",
            "23/23 [==============================] - 6s 250ms/step - loss: 0.0017\n",
            "Epoch 12/100\n",
            "23/23 [==============================] - 4s 168ms/step - loss: 0.0015\n",
            "Epoch 13/100\n",
            "23/23 [==============================] - 4s 170ms/step - loss: 0.0014\n",
            "Epoch 14/100\n",
            "23/23 [==============================] - 5s 228ms/step - loss: 0.0014\n",
            "Epoch 15/100\n",
            "23/23 [==============================] - 4s 182ms/step - loss: 0.0017\n",
            "Epoch 16/100\n",
            "23/23 [==============================] - 4s 189ms/step - loss: 0.0016\n",
            "Epoch 17/100\n",
            "23/23 [==============================] - 5s 219ms/step - loss: 0.0014\n",
            "Epoch 18/100\n",
            "23/23 [==============================] - 5s 194ms/step - loss: 0.0012\n",
            "Epoch 19/100\n",
            "23/23 [==============================] - 4s 172ms/step - loss: 0.0012\n",
            "Epoch 20/100\n",
            "23/23 [==============================] - 4s 194ms/step - loss: 0.0011\n",
            "Epoch 21/100\n",
            "23/23 [==============================] - 5s 215ms/step - loss: 0.0011\n",
            "Epoch 22/100\n",
            "23/23 [==============================] - 4s 195ms/step - loss: 0.0012\n",
            "Epoch 23/100\n",
            "23/23 [==============================] - 4s 189ms/step - loss: 0.0010\n",
            "Epoch 24/100\n",
            "23/23 [==============================] - 5s 227ms/step - loss: 9.8861e-04\n",
            "Epoch 25/100\n",
            "23/23 [==============================] - 4s 170ms/step - loss: 9.4053e-04\n",
            "Epoch 26/100\n",
            "23/23 [==============================] - 4s 174ms/step - loss: 9.3795e-04\n",
            "Epoch 27/100\n",
            "23/23 [==============================] - 6s 244ms/step - loss: 0.0010\n",
            "Epoch 28/100\n",
            "23/23 [==============================] - 4s 170ms/step - loss: 8.8726e-04\n",
            "Epoch 29/100\n",
            "23/23 [==============================] - 4s 169ms/step - loss: 8.5942e-04\n",
            "Epoch 30/100\n",
            "23/23 [==============================] - 5s 240ms/step - loss: 8.7045e-04\n",
            "Epoch 31/100\n",
            "23/23 [==============================] - 4s 171ms/step - loss: 8.2360e-04\n",
            "Epoch 32/100\n",
            "23/23 [==============================] - 4s 170ms/step - loss: 8.1401e-04\n",
            "Epoch 33/100\n",
            "23/23 [==============================] - 5s 239ms/step - loss: 8.0547e-04\n",
            "Epoch 34/100\n",
            "23/23 [==============================] - 4s 167ms/step - loss: 7.7519e-04\n",
            "Epoch 35/100\n",
            "23/23 [==============================] - 4s 167ms/step - loss: 7.6017e-04\n",
            "Epoch 36/100\n",
            "23/23 [==============================] - 5s 226ms/step - loss: 7.1402e-04\n",
            "Epoch 37/100\n",
            "23/23 [==============================] - 5s 196ms/step - loss: 8.7037e-04\n",
            "Epoch 38/100\n",
            "23/23 [==============================] - 4s 183ms/step - loss: 8.1012e-04\n",
            "Epoch 39/100\n",
            "23/23 [==============================] - 5s 223ms/step - loss: 6.9893e-04\n",
            "Epoch 40/100\n",
            "23/23 [==============================] - 4s 181ms/step - loss: 7.4471e-04\n",
            "Epoch 41/100\n",
            "23/23 [==============================] - 4s 171ms/step - loss: 6.7591e-04\n",
            "Epoch 42/100\n",
            "23/23 [==============================] - 5s 205ms/step - loss: 6.5843e-04\n",
            "Epoch 43/100\n",
            "23/23 [==============================] - 5s 200ms/step - loss: 6.5948e-04\n",
            "Epoch 44/100\n",
            "23/23 [==============================] - 4s 173ms/step - loss: 6.4206e-04\n",
            "Epoch 45/100\n",
            "23/23 [==============================] - 4s 192ms/step - loss: 6.6348e-04\n",
            "Epoch 46/100\n",
            "23/23 [==============================] - 6s 243ms/step - loss: 6.1196e-04\n",
            "Epoch 47/100\n",
            "23/23 [==============================] - 4s 168ms/step - loss: 6.6662e-04\n",
            "Epoch 48/100\n",
            "23/23 [==============================] - 4s 181ms/step - loss: 6.2338e-04\n",
            "Epoch 49/100\n",
            "23/23 [==============================] - 5s 226ms/step - loss: 5.8890e-04\n",
            "Epoch 50/100\n",
            "23/23 [==============================] - 4s 173ms/step - loss: 6.2012e-04\n",
            "Epoch 51/100\n",
            "23/23 [==============================] - 4s 174ms/step - loss: 5.9613e-04\n",
            "Epoch 52/100\n",
            "23/23 [==============================] - 5s 238ms/step - loss: 5.5841e-04\n",
            "Epoch 53/100\n",
            "23/23 [==============================] - 4s 172ms/step - loss: 6.8071e-04\n",
            "Epoch 54/100\n",
            "23/23 [==============================] - 4s 170ms/step - loss: 5.8524e-04\n",
            "Epoch 55/100\n",
            "23/23 [==============================] - 6s 249ms/step - loss: 5.4615e-04\n",
            "Epoch 56/100\n",
            "23/23 [==============================] - 4s 168ms/step - loss: 5.6722e-04\n",
            "Epoch 57/100\n",
            "23/23 [==============================] - 4s 172ms/step - loss: 6.1121e-04\n",
            "Epoch 58/100\n",
            "23/23 [==============================] - 6s 248ms/step - loss: 5.4620e-04\n",
            "Epoch 59/100\n",
            "23/23 [==============================] - 4s 172ms/step - loss: 6.1200e-04\n",
            "Epoch 60/100\n",
            "23/23 [==============================] - 4s 172ms/step - loss: 5.7419e-04\n",
            "Epoch 61/100\n",
            "23/23 [==============================] - 5s 221ms/step - loss: 5.2628e-04\n",
            "Epoch 62/100\n",
            "23/23 [==============================] - 4s 185ms/step - loss: 5.2983e-04\n",
            "Epoch 63/100\n",
            "23/23 [==============================] - 4s 171ms/step - loss: 5.9813e-04\n",
            "Epoch 64/100\n",
            "23/23 [==============================] - 5s 211ms/step - loss: 5.1246e-04\n",
            "Epoch 65/100\n",
            "23/23 [==============================] - 5s 203ms/step - loss: 5.4647e-04\n",
            "Epoch 66/100\n",
            "23/23 [==============================] - 4s 171ms/step - loss: 5.2669e-04\n",
            "Epoch 67/100\n",
            "23/23 [==============================] - 4s 181ms/step - loss: 5.8806e-04\n",
            "Epoch 68/100\n",
            "23/23 [==============================] - 5s 231ms/step - loss: 5.3951e-04\n",
            "Epoch 69/100\n",
            "23/23 [==============================] - 4s 169ms/step - loss: 4.7906e-04\n",
            "Epoch 70/100\n",
            "23/23 [==============================] - 4s 172ms/step - loss: 4.7342e-04\n",
            "Epoch 71/100\n",
            "23/23 [==============================] - 6s 253ms/step - loss: 5.1966e-04\n",
            "Epoch 72/100\n",
            "23/23 [==============================] - 4s 168ms/step - loss: 5.0296e-04\n",
            "Epoch 73/100\n",
            "23/23 [==============================] - 4s 170ms/step - loss: 4.8988e-04\n",
            "Epoch 74/100\n",
            "23/23 [==============================] - 6s 243ms/step - loss: 4.6710e-04\n",
            "Epoch 75/100\n",
            "23/23 [==============================] - 4s 171ms/step - loss: 4.6611e-04\n",
            "Epoch 76/100\n",
            "23/23 [==============================] - 4s 174ms/step - loss: 4.9671e-04\n",
            "Epoch 77/100\n",
            "23/23 [==============================] - 6s 247ms/step - loss: 5.0707e-04\n",
            "Epoch 78/100\n",
            "23/23 [==============================] - 4s 177ms/step - loss: 4.5550e-04\n",
            "Epoch 79/100\n",
            "23/23 [==============================] - 4s 170ms/step - loss: 4.5887e-04\n",
            "Epoch 80/100\n",
            "23/23 [==============================] - 5s 217ms/step - loss: 4.9028e-04\n",
            "Epoch 81/100\n",
            "23/23 [==============================] - 5s 194ms/step - loss: 5.9793e-04\n",
            "Epoch 82/100\n",
            "23/23 [==============================] - 4s 169ms/step - loss: 4.7843e-04\n",
            "Epoch 83/100\n",
            "23/23 [==============================] - 4s 189ms/step - loss: 4.6341e-04\n",
            "Epoch 84/100\n",
            "23/23 [==============================] - 5s 215ms/step - loss: 4.3301e-04\n",
            "Epoch 85/100\n",
            "23/23 [==============================] - 4s 169ms/step - loss: 4.4753e-04\n",
            "Epoch 86/100\n",
            "23/23 [==============================] - 4s 172ms/step - loss: 4.4908e-04\n",
            "Epoch 87/100\n",
            "23/23 [==============================] - 5s 236ms/step - loss: 4.2321e-04\n",
            "Epoch 88/100\n",
            "23/23 [==============================] - 4s 168ms/step - loss: 4.4363e-04\n",
            "Epoch 89/100\n",
            "23/23 [==============================] - 4s 169ms/step - loss: 4.1863e-04\n",
            "Epoch 90/100\n",
            "23/23 [==============================] - 5s 233ms/step - loss: 4.4473e-04\n",
            "Epoch 91/100\n",
            "23/23 [==============================] - 4s 171ms/step - loss: 5.4291e-04\n",
            "Epoch 92/100\n",
            "23/23 [==============================] - 4s 171ms/step - loss: 6.4306e-04\n",
            "Epoch 93/100\n",
            "23/23 [==============================] - 6s 249ms/step - loss: 4.3592e-04\n",
            "Epoch 94/100\n",
            "23/23 [==============================] - 4s 169ms/step - loss: 4.1919e-04\n",
            "Epoch 95/100\n",
            "23/23 [==============================] - 4s 170ms/step - loss: 4.3613e-04\n",
            "Epoch 96/100\n",
            "23/23 [==============================] - 5s 231ms/step - loss: 4.4785e-04\n",
            "Epoch 97/100\n",
            "23/23 [==============================] - 4s 172ms/step - loss: 4.6681e-04\n",
            "Epoch 98/100\n",
            "23/23 [==============================] - 4s 171ms/step - loss: 4.2060e-04\n",
            "Epoch 99/100\n",
            "23/23 [==============================] - 5s 213ms/step - loss: 4.5091e-04\n",
            "Epoch 100/100\n",
            "23/23 [==============================] - 5s 202ms/step - loss: 4.5196e-04\n"
          ]
        },
        {
          "output_type": "execute_result",
          "data": {
            "text/plain": [
              "<keras.src.callbacks.History at 0x7d0f0633a500>"
            ]
          },
          "metadata": {},
          "execution_count": 70
        }
      ]
    },
    {
      "cell_type": "code",
      "source": [
        "# 10. Dự báo dữ liệu test, val\n",
        "train_predict=model.predict(X_train)\n",
        "y_pred=model.predict(X_test)"
      ],
      "metadata": {
        "colab": {
          "base_uri": "https://localhost:8080/"
        },
        "id": "Rxx_KQSkQpBG",
        "outputId": "cbd05454-e780-488c-c014-54a5cbe7722a"
      },
      "execution_count": 71,
      "outputs": [
        {
          "output_type": "stream",
          "name": "stdout",
          "text": [
            "45/45 [==============================] - 3s 40ms/step\n",
            "9/9 [==============================] - 0s 41ms/step\n"
          ]
        }
      ]
    },
    {
      "cell_type": "code",
      "source": [
        "# 11. Chuẩn hóa dữ liệu y_pred, y_pred_val\n",
        "train_predict=scaler.inverse_transform(train_predict)\n",
        "y_pred=scaler.inverse_transform(y_pred)"
      ],
      "metadata": {
        "id": "5rwTN10LQ7rj"
      },
      "execution_count": 72,
      "outputs": []
    },
    {
      "cell_type": "code",
      "source": [
        "# 12. Đánh giá độ chính xác thuật toán bằng RMSE\n",
        "test_rmse = np.sqrt(np.mean((y_pred - ytest)**2))\n",
        "print('Testing RMSE:', test_rmse)"
      ],
      "metadata": {
        "colab": {
          "base_uri": "https://localhost:8080/"
        },
        "id": "wu_9j94kRonD",
        "outputId": "2ba28da5-a05f-41a1-fade-0d9cd5bf2fc1"
      },
      "execution_count": 73,
      "outputs": [
        {
          "output_type": "stream",
          "name": "stdout",
          "text": [
            "Testing RMSE: 73551.4026888427\n"
          ]
        }
      ]
    },
    {
      "cell_type": "code",
      "source": [
        "# Dự đoán 30 ngày tiếp theo\n",
        "temp_input = test_data[-time_step:].reshape(1, -1).tolist()[0]\n",
        "lst_output_30 = []\n",
        "n_steps = time_step\n",
        "for i in range(30):\n",
        "    if len(temp_input) > n_steps:\n",
        "        x_input = np.array(temp_input[-n_steps:])\n",
        "        x_input = x_input.reshape((1, n_steps, 1))\n",
        "        yhat = model.predict(x_input, verbose=0)\n",
        "        temp_input.extend(yhat[0].tolist())\n",
        "        temp_input = temp_input[1:]\n",
        "        lst_output_30.extend(yhat.tolist())\n",
        "    else:\n",
        "        x_input = np.array(temp_input)\n",
        "        x_input = x_input.reshape((1, len(temp_input), 1))\n",
        "        yhat = model.predict(x_input, verbose=0)\n",
        "        temp_input.extend(yhat[0].tolist())\n",
        "        lst_output_30.extend(yhat.tolist())"
      ],
      "metadata": {
        "id": "wAxe8LXNPhaP"
      },
      "execution_count": 74,
      "outputs": []
    },
    {
      "cell_type": "code",
      "source": [
        "\n",
        "# Chuẩn hóa lại dự đoán 30 ngày\n",
        "lst_output_30 = scaler.inverse_transform(lst_output_30)\n"
      ],
      "metadata": {
        "id": "rtDWm26YPn6t"
      },
      "execution_count": 75,
      "outputs": []
    },
    {
      "cell_type": "code",
      "source": [
        "# Dự đoán 60 ngày tiếp theo\n",
        "temp_input = test_data[-time_step:].reshape(1, -1).tolist()[0]\n",
        "lst_output_60 = []\n",
        "n_steps = time_step\n",
        "for i in range(60):\n",
        "    if len(temp_input) > n_steps:\n",
        "        x_input = np.array(temp_input[-n_steps:])\n",
        "        x_input = x_input.reshape((1, n_steps, 1))\n",
        "        yhat = model.predict(x_input, verbose=0)\n",
        "        temp_input.extend(yhat[0].tolist())\n",
        "        temp_input = temp_input[1:]\n",
        "        lst_output_60.extend(yhat.tolist())\n",
        "    else:\n",
        "        x_input = np.array(temp_input)\n",
        "        x_input = x_input.reshape((1, len(temp_input), 1))\n",
        "        yhat = model.predict(x_input, verbose=0)\n",
        "        temp_input.extend(yhat[0].tolist())\n",
        "        lst_output_60.extend(yhat.tolist())"
      ],
      "metadata": {
        "id": "LqWeUrG2Qdu0"
      },
      "execution_count": 76,
      "outputs": []
    },
    {
      "cell_type": "code",
      "source": [
        "\n",
        "# Chuẩn hóa lại dự đoán 60 ngày\n",
        "lst_output_60 = scaler.inverse_transform(lst_output_60)\n"
      ],
      "metadata": {
        "id": "EJDShcpXQkL_"
      },
      "execution_count": 77,
      "outputs": []
    },
    {
      "cell_type": "code",
      "source": [
        "# Dự đoán 90 ngày tiếp theo\n",
        "temp_input = test_data[-time_step:].reshape(1, -1).tolist()[0]\n",
        "lst_output_90 = []\n",
        "n_steps = time_step\n",
        "for i in range(90):\n",
        "    if len(temp_input) > n_steps:\n",
        "        x_input = np.array(temp_input[-n_steps:])\n",
        "        x_input = x_input.reshape((1, n_steps, 1))\n",
        "        yhat = model.predict(x_input, verbose=0)\n",
        "        temp_input.extend(yhat[0].tolist())\n",
        "        temp_input = temp_input[1:]\n",
        "        lst_output_90.extend(yhat.tolist())\n",
        "    else:\n",
        "        x_input = np.array(temp_input)\n",
        "        x_input = x_input.reshape((1, len(temp_input), 1))\n",
        "        yhat = model.predict(x_input, verbose=0)\n",
        "        temp_input.extend(yhat[0].tolist())\n",
        "        lst_output_90.extend(yhat.tolist())"
      ],
      "metadata": {
        "id": "ivJZ-zk9Q2B3"
      },
      "execution_count": 78,
      "outputs": []
    },
    {
      "cell_type": "code",
      "source": [
        "\n",
        "# Chuẩn hóa lại dự đoán 90 ngày\n",
        "lst_output_90 = scaler.inverse_transform(lst_output_90)\n"
      ],
      "metadata": {
        "id": "BLVSQlWDQ3VW"
      },
      "execution_count": 79,
      "outputs": []
    },
    {
      "cell_type": "code",
      "source": [
        "\n",
        "# Plot the results\n",
        "plt.figure(figsize=(14, 8))\n",
        "\n",
        "# Plot training data\n",
        "train_data_index = pd.RangeIndex(start=0, stop=train_size, step=1)\n",
        "plt.plot(train_data_index, scaler.inverse_transform(train_data))\n",
        "\n",
        "# Plot testing data\n",
        "test_data_index = pd.RangeIndex(start=train_size, stop=train_size + test_size, step=1)\n",
        "plt.plot(test_data_index, scaler.inverse_transform(test_data))\n",
        "\n",
        "# Plot predicted data\n",
        "y_pred_index = pd.RangeIndex(start=train_size + time_step, stop=train_size + time_step + len(y_pred), step=1)\n",
        "plt.plot(y_pred_index, y_pred)\n",
        "\n",
        "# Plot future predictions\n",
        "predict90_days_index = pd.RangeIndex(start=train_size + test_size, stop=train_size + test_size + 90, step=1)\n",
        "plt.plot(predict90_days_index, lst_output_90, color='red')\n",
        "\n",
        "\n",
        "predict60_days_index = pd.RangeIndex(start=train_size + test_size, stop=train_size + test_size + 60, step=1)\n",
        "plt.plot(predict60_days_index, lst_output_60, color='yellow')\n",
        "\n",
        "\n",
        "predict30_days_index = pd.RangeIndex(start=train_size + test_size, stop=train_size + test_size + 30, step=1)\n",
        "plt.plot(predict30_days_index, lst_output_30, color='blue')\n",
        "\n",
        "\n",
        "\n",
        "plt.legend(['Train', 'Test', 'Predict', 'Predict90days' , 'Predict60days', 'Predict30days' ])\n",
        "plt.show()"
      ],
      "metadata": {
        "colab": {
          "base_uri": "https://localhost:8080/",
          "height": 650
        },
        "id": "-ZT9QhRrhx6N",
        "outputId": "8183f504-c7e1-4c08-b3b1-4197288581c3"
      },
      "execution_count": 80,
      "outputs": [
        {
          "output_type": "display_data",
          "data": {
            "text/plain": [
              "<Figure size 1400x800 with 1 Axes>"
            ],
            "image/png": "[encoded data removed]"
          },
          "metadata": {}
        }
      ]
    },
    {
      "cell_type": "code",
      "source": [
        "from sklearn.metrics import mean_absolute_percentage_error, mean_squared_error, r2_score\n",
        "# Tính toán MAPE và RMSE\n",
        "mape = mean_absolute_percentage_error(ytest, y_pred)\n",
        "rmse = np.sqrt(mean_squared_error(ytest, y_pred))\n",
        "mse = mean_squared_error(ytest, y_pred)\n",
        "\n",
        "print(f'RMSE: {rmse:.4f}')\n",
        "print(f'MSE: {mse:.4f}')\n",
        "print(f'MAPE: {mape:.4f}')\n",
        "\n",
        "# results_VARMA = pd.DataFrame([['VARMA', rmse, mape, mse]],\n",
        "#                columns = ['Model', 'RMSE', 'MSE', 'MAPE'])\n",
        "# results_VARMA"
      ],
      "metadata": {
        "colab": {
          "base_uri": "https://localhost:8080/"
        },
        "id": "oTtDigLc2cGf",
        "outputId": "1bc98753-3985-4747-ed13-ee40d3d5fcac"
      },
      "execution_count": 89,
      "outputs": [
        {
          "output_type": "stream",
          "name": "stdout",
          "text": [
            "RMSE: 73551.3977\n",
            "MSE: 5409808107.7238\n",
            "MAPE: 113401.2822\n"
          ]
        }
      ]
    }
  ],
  "metadata": {
    "colab": {
      "provenance": []
    },
    "kernelspec": {
      "display_name": "Python 3",
      "name": "python3"
    },
    "language_info": {
      "name": "python"
    }
  },
  "nbformat": 4,
  "nbformat_minor": 0
}