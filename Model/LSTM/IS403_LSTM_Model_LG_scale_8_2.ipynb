{
  "cells": [
    {
      "cell_type": "code",
      "source": [
        "\n",
        "import numpy as np\n",
        "import pandas as pd\n",
        "import matplotlib.pyplot as plt\n",
        "from sklearn.preprocessing import MinMaxScaler\n",
        "from keras.models import Sequential\n",
        "from keras.layers import Dense, LSTM"
      ],
      "metadata": {
        "id": "FMDKda-XIUAK"
      },
      "execution_count": 1,
      "outputs": []
    },
    {
      "cell_type": "code",
      "source": [
        "df = pd.read_csv('/content/LG.csv')\n",
        "df1=df.reset_index()['Close']"
      ],
      "metadata": {
        "id": "Qks3MuwbWZ_W"
      },
      "execution_count": 2,
      "outputs": []
    },
    {
      "cell_type": "code",
      "source": [
        "df1"
      ],
      "metadata": {
        "id": "aRm9GQ8KJJ5N",
        "colab": {
          "base_uri": "https://localhost:8080/"
        },
        "outputId": "1786999d-9a72-49e5-bdb3-0b52833aff29"
      },
      "execution_count": 3,
      "outputs": [
        {
          "output_type": "execute_result",
          "data": {
            "text/plain": [
              "0        73000.0\n",
              "1        73000.0\n",
              "2        73000.0\n",
              "3        71200.0\n",
              "4        71300.0\n",
              "          ...   \n",
              "1915    109300.0\n",
              "1916    110500.0\n",
              "1917    106300.0\n",
              "1918    104800.0\n",
              "1919    105460.0\n",
              "Name: Close, Length: 1920, dtype: float64"
            ]
          },
          "metadata": {},
          "execution_count": 3
        }
      ]
    },
    {
      "cell_type": "code",
      "source": [
        "# 3. Scaler data\n",
        "scaler=MinMaxScaler(feature_range=(0,1))\n",
        "df1=scaler.fit_transform(np.array(df1).reshape(-1,1))"
      ],
      "metadata": {
        "id": "RdVpDho2JgL5"
      },
      "execution_count": 4,
      "outputs": []
    },
    {
      "cell_type": "code",
      "source": [
        "# 4. Chia train test\n",
        "train_size = int(0.8 * len(df1))\n",
        "test_size = int(0.2 * len(df1))\n",
        "\n",
        "train_data = df1[:train_size]\n",
        "test_data = df1[train_size:train_size+test_size]"
      ],
      "metadata": {
        "id": "B5JXpenzJoR3"
      },
      "execution_count": 5,
      "outputs": []
    },
    {
      "cell_type": "code",
      "source": [
        "# 5. Hàm Create Dataset\n",
        "import numpy\n",
        "# convert an array of values into a dataset matrix\n",
        "def create_dataset(dataset, time_step=1):\n",
        "\tdataX, dataY = [], []\n",
        "\tfor i in range(len(dataset)-time_step-1):\n",
        "\t\ta = dataset[i:(i+time_step), 0]   ###i=0, X=0,1,2,3-----99   Y=100\n",
        "\t\tdataX.append(a)\n",
        "\t\tdataY.append(dataset[i + time_step, 0])\n",
        "\treturn numpy.array(dataX), numpy.array(dataY)"
      ],
      "metadata": {
        "id": "yJfmuBORLSfC"
      },
      "execution_count": 6,
      "outputs": []
    },
    {
      "cell_type": "code",
      "source": [
        "#6. Reshape into X=t,t+1,t+2..t+99 and Y=t+100\n",
        "\n",
        "time_step = 100\n",
        "X_train, y_train = create_dataset(train_data, time_step)\n",
        "X_test, ytest = create_dataset(test_data, time_step)"
      ],
      "metadata": {
        "id": "e81cKq03LXFB"
      },
      "execution_count": 7,
      "outputs": []
    },
    {
      "cell_type": "code",
      "source": [
        "# 7. Reshape input to be [samples, time steps, features] which is required for LSTM\n",
        "X_train =X_train.reshape(X_train.shape[0],X_train.shape[1] , 1)\n",
        "X_test = X_test.reshape(X_test.shape[0],X_test.shape[1] , 1)"
      ],
      "metadata": {
        "id": "RdBVfku7O2qb"
      },
      "execution_count": 8,
      "outputs": []
    },
    {
      "cell_type": "code",
      "source": [
        "# 8. Define LSTM Model\n",
        "\n",
        "model=Sequential()\n",
        "model.add(LSTM(50,return_sequences=True,input_shape=(100,1)))\n",
        "model.add(LSTM(50,return_sequences=True))\n",
        "model.add(LSTM(50))\n",
        "model.add(Dense(1))\n",
        "model.compile(loss='mean_squared_error',optimizer='adam')"
      ],
      "metadata": {
        "id": "sSfxrE7BO9vX"
      },
      "execution_count": 9,
      "outputs": []
    },
    {
      "cell_type": "code",
      "source": [
        "# 9. Fit mô hình với dữ liệu train\n",
        "model.fit(X_train,y_train, epochs=100,batch_size=64,verbose=1)"
      ],
      "metadata": {
        "colab": {
          "base_uri": "https://localhost:8080/"
        },
        "id": "zgfeujZSPEKr",
        "outputId": "75f67bc6-8698-4385-e2c8-d8213731068e"
      },
      "execution_count": 10,
      "outputs": [
        {
          "output_type": "stream",
          "name": "stdout",
          "text": [
            "Epoch 1/100\n",
            "23/23 [==============================] - 10s 152ms/step - loss: 0.0425\n",
            "Epoch 2/100\n",
            "23/23 [==============================] - 3s 149ms/step - loss: 0.0049\n",
            "Epoch 3/100\n",
            "23/23 [==============================] - 4s 172ms/step - loss: 0.0020\n",
            "Epoch 4/100\n",
            "23/23 [==============================] - 4s 188ms/step - loss: 0.0018\n",
            "Epoch 5/100\n",
            "23/23 [==============================] - 3s 146ms/step - loss: 0.0018\n",
            "Epoch 6/100\n",
            "23/23 [==============================] - 3s 147ms/step - loss: 0.0017\n",
            "Epoch 7/100\n",
            "23/23 [==============================] - 5s 207ms/step - loss: 0.0017\n",
            "Epoch 8/100\n",
            "23/23 [==============================] - 4s 150ms/step - loss: 0.0018\n",
            "Epoch 9/100\n",
            "23/23 [==============================] - 3s 149ms/step - loss: 0.0016\n",
            "Epoch 10/100\n",
            "23/23 [==============================] - 3s 148ms/step - loss: 0.0016\n",
            "Epoch 11/100\n",
            "23/23 [==============================] - 5s 210ms/step - loss: 0.0014\n",
            "Epoch 12/100\n",
            "23/23 [==============================] - 3s 147ms/step - loss: 0.0014\n",
            "Epoch 13/100\n",
            "23/23 [==============================] - 3s 145ms/step - loss: 0.0014\n",
            "Epoch 14/100\n",
            "23/23 [==============================] - 4s 181ms/step - loss: 0.0016\n",
            "Epoch 15/100\n",
            "23/23 [==============================] - 4s 179ms/step - loss: 0.0014\n",
            "Epoch 16/100\n",
            "23/23 [==============================] - 3s 146ms/step - loss: 0.0012\n",
            "Epoch 17/100\n",
            "23/23 [==============================] - 3s 148ms/step - loss: 0.0013\n",
            "Epoch 18/100\n",
            "23/23 [==============================] - 5s 211ms/step - loss: 0.0013\n",
            "Epoch 19/100\n",
            "23/23 [==============================] - 3s 148ms/step - loss: 0.0012\n",
            "Epoch 20/100\n",
            "23/23 [==============================] - 3s 147ms/step - loss: 0.0013\n",
            "Epoch 21/100\n",
            "23/23 [==============================] - 4s 162ms/step - loss: 0.0012\n",
            "Epoch 22/100\n",
            "23/23 [==============================] - 4s 191ms/step - loss: 0.0013\n",
            "Epoch 23/100\n",
            "23/23 [==============================] - 3s 147ms/step - loss: 0.0012\n",
            "Epoch 24/100\n",
            "23/23 [==============================] - 3s 147ms/step - loss: 0.0011\n",
            "Epoch 25/100\n",
            "23/23 [==============================] - 5s 207ms/step - loss: 0.0011\n",
            "Epoch 26/100\n",
            "23/23 [==============================] - 4s 153ms/step - loss: 0.0011\n",
            "Epoch 27/100\n",
            "23/23 [==============================] - 3s 148ms/step - loss: 0.0011\n",
            "Epoch 28/100\n",
            "23/23 [==============================] - 3s 146ms/step - loss: 0.0011\n",
            "Epoch 29/100\n",
            "23/23 [==============================] - 5s 211ms/step - loss: 0.0011\n",
            "Epoch 30/100\n",
            "23/23 [==============================] - 3s 146ms/step - loss: 9.9934e-04\n",
            "Epoch 31/100\n",
            "23/23 [==============================] - 3s 147ms/step - loss: 0.0011\n",
            "Epoch 32/100\n",
            "23/23 [==============================] - 4s 189ms/step - loss: 0.0012\n",
            "Epoch 33/100\n",
            "23/23 [==============================] - 4s 173ms/step - loss: 0.0012\n",
            "Epoch 34/100\n",
            "23/23 [==============================] - 3s 147ms/step - loss: 0.0012\n",
            "Epoch 35/100\n",
            "23/23 [==============================] - 3s 148ms/step - loss: 0.0011\n",
            "Epoch 36/100\n",
            "23/23 [==============================] - 5s 214ms/step - loss: 0.0010\n",
            "Epoch 37/100\n",
            "23/23 [==============================] - 3s 148ms/step - loss: 8.9615e-04\n",
            "Epoch 38/100\n",
            "23/23 [==============================] - 3s 148ms/step - loss: 8.0684e-04\n",
            "Epoch 39/100\n",
            "23/23 [==============================] - 4s 166ms/step - loss: 8.3942e-04\n",
            "Epoch 40/100\n",
            "23/23 [==============================] - 4s 194ms/step - loss: 8.2989e-04\n",
            "Epoch 41/100\n",
            "23/23 [==============================] - 3s 151ms/step - loss: 7.3539e-04\n",
            "Epoch 42/100\n",
            "23/23 [==============================] - 3s 147ms/step - loss: 8.1094e-04\n",
            "Epoch 43/100\n",
            "23/23 [==============================] - 5s 206ms/step - loss: 8.6277e-04\n",
            "Epoch 44/100\n",
            "23/23 [==============================] - 4s 148ms/step - loss: 8.2869e-04\n",
            "Epoch 45/100\n",
            "23/23 [==============================] - 3s 147ms/step - loss: 7.0593e-04\n",
            "Epoch 46/100\n",
            "23/23 [==============================] - 3s 147ms/step - loss: 6.3610e-04\n",
            "Epoch 47/100\n",
            "23/23 [==============================] - 5s 206ms/step - loss: 6.3004e-04\n",
            "Epoch 48/100\n",
            "23/23 [==============================] - 3s 147ms/step - loss: 6.6855e-04\n",
            "Epoch 49/100\n",
            "23/23 [==============================] - 3s 148ms/step - loss: 6.2919e-04\n",
            "Epoch 50/100\n",
            "23/23 [==============================] - 4s 188ms/step - loss: 6.9811e-04\n",
            "Epoch 51/100\n",
            "23/23 [==============================] - 4s 166ms/step - loss: 5.5938e-04\n",
            "Epoch 52/100\n",
            "23/23 [==============================] - 3s 147ms/step - loss: 5.5945e-04\n",
            "Epoch 53/100\n",
            "23/23 [==============================] - 3s 147ms/step - loss: 5.2690e-04\n",
            "Epoch 54/100\n",
            "23/23 [==============================] - 5s 214ms/step - loss: 5.9660e-04\n",
            "Epoch 55/100\n",
            "23/23 [==============================] - 3s 147ms/step - loss: 5.7307e-04\n",
            "Epoch 56/100\n",
            "23/23 [==============================] - 3s 147ms/step - loss: 5.6163e-04\n",
            "Epoch 57/100\n",
            "23/23 [==============================] - 4s 177ms/step - loss: 5.5208e-04\n",
            "Epoch 58/100\n",
            "23/23 [==============================] - 4s 180ms/step - loss: 5.1533e-04\n",
            "Epoch 59/100\n",
            "23/23 [==============================] - 3s 148ms/step - loss: 5.1784e-04\n",
            "Epoch 60/100\n",
            "23/23 [==============================] - 3s 148ms/step - loss: 4.9567e-04\n",
            "Epoch 61/100\n",
            "23/23 [==============================] - 5s 210ms/step - loss: 4.8871e-04\n",
            "Epoch 62/100\n",
            "23/23 [==============================] - 3s 148ms/step - loss: 5.2497e-04\n",
            "Epoch 63/100\n",
            "23/23 [==============================] - 3s 148ms/step - loss: 4.9841e-04\n",
            "Epoch 64/100\n",
            "23/23 [==============================] - 4s 172ms/step - loss: 5.9436e-04\n",
            "Epoch 65/100\n",
            "23/23 [==============================] - 4s 188ms/step - loss: 5.0243e-04\n",
            "Epoch 66/100\n",
            "23/23 [==============================] - 3s 148ms/step - loss: 4.7588e-04\n",
            "Epoch 67/100\n",
            "23/23 [==============================] - 3s 148ms/step - loss: 5.2001e-04\n",
            "Epoch 68/100\n",
            "23/23 [==============================] - 5s 212ms/step - loss: 5.5137e-04\n",
            "Epoch 69/100\n",
            "23/23 [==============================] - 3s 147ms/step - loss: 5.0059e-04\n",
            "Epoch 70/100\n",
            "23/23 [==============================] - 3s 148ms/step - loss: 4.4851e-04\n",
            "Epoch 71/100\n",
            "23/23 [==============================] - 4s 156ms/step - loss: 4.9216e-04\n",
            "Epoch 72/100\n",
            "23/23 [==============================] - 5s 204ms/step - loss: 5.1434e-04\n",
            "Epoch 73/100\n",
            "23/23 [==============================] - 3s 149ms/step - loss: 4.3940e-04\n",
            "Epoch 74/100\n",
            "23/23 [==============================] - 3s 148ms/step - loss: 4.4913e-04\n",
            "Epoch 75/100\n",
            "23/23 [==============================] - 5s 199ms/step - loss: 4.7413e-04\n",
            "Epoch 76/100\n",
            "23/23 [==============================] - 4s 158ms/step - loss: 4.6676e-04\n",
            "Epoch 77/100\n",
            "23/23 [==============================] - 3s 148ms/step - loss: 4.4778e-04\n",
            "Epoch 78/100\n",
            "23/23 [==============================] - 3s 147ms/step - loss: 4.9318e-04\n",
            "Epoch 79/100\n",
            "23/23 [==============================] - 5s 213ms/step - loss: 4.3657e-04\n",
            "Epoch 80/100\n",
            "23/23 [==============================] - 3s 147ms/step - loss: 5.1050e-04\n",
            "Epoch 81/100\n",
            "23/23 [==============================] - 3s 146ms/step - loss: 4.3943e-04\n",
            "Epoch 82/100\n",
            "23/23 [==============================] - 4s 176ms/step - loss: 4.5507e-04\n",
            "Epoch 83/100\n",
            "23/23 [==============================] - 4s 177ms/step - loss: 4.4986e-04\n",
            "Epoch 84/100\n",
            "23/23 [==============================] - 3s 147ms/step - loss: 4.2845e-04\n",
            "Epoch 85/100\n",
            "23/23 [==============================] - 3s 148ms/step - loss: 4.5173e-04\n",
            "Epoch 86/100\n",
            "23/23 [==============================] - 5s 215ms/step - loss: 4.3792e-04\n",
            "Epoch 87/100\n",
            "23/23 [==============================] - 3s 148ms/step - loss: 4.3657e-04\n",
            "Epoch 88/100\n",
            "23/23 [==============================] - 3s 148ms/step - loss: 4.1659e-04\n",
            "Epoch 89/100\n",
            "23/23 [==============================] - 4s 166ms/step - loss: 4.0973e-04\n",
            "Epoch 90/100\n",
            "23/23 [==============================] - 4s 191ms/step - loss: 4.6807e-04\n",
            "Epoch 91/100\n",
            "23/23 [==============================] - 3s 149ms/step - loss: 4.1622e-04\n",
            "Epoch 92/100\n",
            "23/23 [==============================] - 3s 148ms/step - loss: 4.7749e-04\n",
            "Epoch 93/100\n",
            "23/23 [==============================] - 5s 219ms/step - loss: 5.5483e-04\n",
            "Epoch 94/100\n",
            "23/23 [==============================] - 3s 148ms/step - loss: 4.9361e-04\n",
            "Epoch 95/100\n",
            "23/23 [==============================] - 3s 147ms/step - loss: 4.0644e-04\n",
            "Epoch 96/100\n",
            "23/23 [==============================] - 4s 155ms/step - loss: 4.1613e-04\n",
            "Epoch 97/100\n",
            "23/23 [==============================] - 5s 202ms/step - loss: 4.3507e-04\n",
            "Epoch 98/100\n",
            "23/23 [==============================] - 3s 148ms/step - loss: 5.4342e-04\n",
            "Epoch 99/100\n",
            "23/23 [==============================] - 3s 148ms/step - loss: 4.2393e-04\n",
            "Epoch 100/100\n",
            "23/23 [==============================] - 4s 196ms/step - loss: 5.2365e-04\n"
          ]
        },
        {
          "output_type": "execute_result",
          "data": {
            "text/plain": [
              "<keras.src.callbacks.History at 0x7e4c583e6860>"
            ]
          },
          "metadata": {},
          "execution_count": 10
        }
      ]
    },
    {
      "cell_type": "code",
      "source": [
        "# 10. Dự báo dữ liệu test, val\n",
        "train_predict=model.predict(X_train)\n",
        "y_pred=model.predict(X_test)"
      ],
      "metadata": {
        "colab": {
          "base_uri": "https://localhost:8080/"
        },
        "id": "Rxx_KQSkQpBG",
        "outputId": "e20fb833-4fb2-4029-885b-cc39028dfb7f"
      },
      "execution_count": 11,
      "outputs": [
        {
          "output_type": "stream",
          "name": "stdout",
          "text": [
            "45/45 [==============================] - 3s 34ms/step\n",
            "9/9 [==============================] - 0s 34ms/step\n"
          ]
        }
      ]
    },
    {
      "cell_type": "code",
      "source": [
        "# 11. Chuẩn hóa dữ liệu y_pred, y_pred_val\n",
        "train_predict=scaler.inverse_transform(train_predict)\n",
        "y_pred=scaler.inverse_transform(y_pred)"
      ],
      "metadata": {
        "id": "5rwTN10LQ7rj"
      },
      "execution_count": 12,
      "outputs": []
    },
    {
      "cell_type": "code",
      "source": [
        "# 12. Đánh giá độ chính xác thuật toán bằng RMSE\n",
        "test_rmse = np.sqrt(np.mean((y_pred - ytest)**2))\n",
        "print('Testing RMSE:', test_rmse)"
      ],
      "metadata": {
        "colab": {
          "base_uri": "https://localhost:8080/"
        },
        "id": "wu_9j94kRonD",
        "outputId": "07870a23-1379-4e62-d369-a70067bfbaef"
      },
      "execution_count": 13,
      "outputs": [
        {
          "output_type": "stream",
          "name": "stdout",
          "text": [
            "Testing RMSE: 100794.38202462181\n"
          ]
        }
      ]
    },
    {
      "cell_type": "code",
      "source": [
        "# Dự đoán 30 ngày tiếp theo\n",
        "temp_input = test_data[-time_step:].reshape(1, -1).tolist()[0]\n",
        "lst_output_30 = []\n",
        "n_steps = time_step\n",
        "for i in range(30):\n",
        "    if len(temp_input) > n_steps:\n",
        "        x_input = np.array(temp_input[-n_steps:])\n",
        "        x_input = x_input.reshape((1, n_steps, 1))\n",
        "        yhat = model.predict(x_input, verbose=0)\n",
        "        temp_input.extend(yhat[0].tolist())\n",
        "        temp_input = temp_input[1:]\n",
        "        lst_output_30.extend(yhat.tolist())\n",
        "    else:\n",
        "        x_input = np.array(temp_input)\n",
        "        x_input = x_input.reshape((1, len(temp_input), 1))\n",
        "        yhat = model.predict(x_input, verbose=0)\n",
        "        temp_input.extend(yhat[0].tolist())\n",
        "        lst_output_30.extend(yhat.tolist())"
      ],
      "metadata": {
        "id": "wAxe8LXNPhaP"
      },
      "execution_count": 14,
      "outputs": []
    },
    {
      "cell_type": "code",
      "source": [
        "\n",
        "# Chuẩn hóa lại dự đoán 30 ngày\n",
        "lst_output_30 = scaler.inverse_transform(lst_output_30)\n"
      ],
      "metadata": {
        "id": "rtDWm26YPn6t"
      },
      "execution_count": 15,
      "outputs": []
    },
    {
      "cell_type": "code",
      "source": [
        "# Dự đoán 60 ngày tiếp theo\n",
        "temp_input = test_data[-time_step:].reshape(1, -1).tolist()[0]\n",
        "lst_output_60 = []\n",
        "n_steps = time_step\n",
        "for i in range(60):\n",
        "    if len(temp_input) > n_steps:\n",
        "        x_input = np.array(temp_input[-n_steps:])\n",
        "        x_input = x_input.reshape((1, n_steps, 1))\n",
        "        yhat = model.predict(x_input, verbose=0)\n",
        "        temp_input.extend(yhat[0].tolist())\n",
        "        temp_input = temp_input[1:]\n",
        "        lst_output_60.extend(yhat.tolist())\n",
        "    else:\n",
        "        x_input = np.array(temp_input)\n",
        "        x_input = x_input.reshape((1, len(temp_input), 1))\n",
        "        yhat = model.predict(x_input, verbose=0)\n",
        "        temp_input.extend(yhat[0].tolist())\n",
        "        lst_output_60.extend(yhat.tolist())"
      ],
      "metadata": {
        "id": "LqWeUrG2Qdu0"
      },
      "execution_count": 16,
      "outputs": []
    },
    {
      "cell_type": "code",
      "source": [
        "\n",
        "# Chuẩn hóa lại dự đoán 60 ngày\n",
        "lst_output_60 = scaler.inverse_transform(lst_output_60)\n"
      ],
      "metadata": {
        "id": "EJDShcpXQkL_"
      },
      "execution_count": 17,
      "outputs": []
    },
    {
      "cell_type": "code",
      "source": [
        "# Dự đoán 90 ngày tiếp theo\n",
        "temp_input = test_data[-time_step:].reshape(1, -1).tolist()[0]\n",
        "lst_output_90 = []\n",
        "n_steps = time_step\n",
        "for i in range(90):\n",
        "    if len(temp_input) > n_steps:\n",
        "        x_input = np.array(temp_input[-n_steps:])\n",
        "        x_input = x_input.reshape((1, n_steps, 1))\n",
        "        yhat = model.predict(x_input, verbose=0)\n",
        "        temp_input.extend(yhat[0].tolist())\n",
        "        temp_input = temp_input[1:]\n",
        "        lst_output_90.extend(yhat.tolist())\n",
        "    else:\n",
        "        x_input = np.array(temp_input)\n",
        "        x_input = x_input.reshape((1, len(temp_input), 1))\n",
        "        yhat = model.predict(x_input, verbose=0)\n",
        "        temp_input.extend(yhat[0].tolist())\n",
        "        lst_output_90.extend(yhat.tolist())"
      ],
      "metadata": {
        "id": "ivJZ-zk9Q2B3"
      },
      "execution_count": 18,
      "outputs": []
    },
    {
      "cell_type": "code",
      "source": [
        "\n",
        "# Chuẩn hóa lại dự đoán 90 ngày\n",
        "lst_output_90 = scaler.inverse_transform(lst_output_90)\n"
      ],
      "metadata": {
        "id": "BLVSQlWDQ3VW"
      },
      "execution_count": 19,
      "outputs": []
    },
    {
      "cell_type": "code",
      "source": [
        "\n",
        "# Plot the results\n",
        "plt.figure(figsize=(14, 8))\n",
        "\n",
        "# Plot training data\n",
        "train_data_index = pd.RangeIndex(start=0, stop=train_size, step=1)\n",
        "plt.plot(train_data_index, scaler.inverse_transform(train_data))\n",
        "\n",
        "# Plot testing data\n",
        "test_data_index = pd.RangeIndex(start=train_size, stop=train_size + test_size, step=1)\n",
        "plt.plot(test_data_index, scaler.inverse_transform(test_data))\n",
        "\n",
        "# Plot predicted data\n",
        "y_pred_index = pd.RangeIndex(start=train_size + time_step, stop=train_size + time_step + len(y_pred), step=1)\n",
        "plt.plot(y_pred_index, y_pred)\n",
        "\n",
        "# Plot future predictions\n",
        "predict90_days_index = pd.RangeIndex(start=train_size + test_size, stop=train_size + test_size + 90, step=1)\n",
        "plt.plot(predict90_days_index, lst_output_90, color='red')\n",
        "\n",
        "\n",
        "predict60_days_index = pd.RangeIndex(start=train_size + test_size, stop=train_size + test_size + 60, step=1)\n",
        "plt.plot(predict60_days_index, lst_output_60, color='yellow')\n",
        "\n",
        "\n",
        "predict30_days_index = pd.RangeIndex(start=train_size + test_size, stop=train_size + test_size + 30, step=1)\n",
        "plt.plot(predict30_days_index, lst_output_30, color='blue')\n",
        "\n",
        "\n",
        "\n",
        "plt.legend(['Train', 'Test', 'Predict', 'Predict90days' , 'Predict60days', 'Predict30days' ])\n",
        "plt.show()"
      ],
      "metadata": {
        "colab": {
          "base_uri": "https://localhost:8080/",
          "height": 645
        },
        "id": "-ZT9QhRrhx6N",
        "outputId": "a9b7695d-1b24-4d4f-87d6-7ff96157a1be"
      },
      "execution_count": 20,
      "outputs": [
        {
          "output_type": "display_data",
          "data": {
            "text/plain": [
              "<Figure size 1400x800 with 1 Axes>"
            ],
            "image/png": "[encoded data removed]"
          },
          "metadata": {}
        }
      ]
    },
    {
      "cell_type": "code",
      "source": [
        "from sklearn.metrics import mean_absolute_percentage_error, mean_squared_error, r2_score\n",
        "# Tính toán MAPE và RMSE\n",
        "mape = mean_absolute_percentage_error(ytest, y_pred)\n",
        "rmse = np.sqrt(mean_squared_error(ytest, y_pred))\n",
        "mse = mean_squared_error(ytest, y_pred)\n",
        "\n",
        "print(f'RMSE: {rmse:.4f}')\n",
        "print(f'MSE: {mse:.4f}')\n",
        "print(f'MAPE: {mape:.4f}')\n",
        "\n",
        "# results_VARMA = pd.DataFrame([['VARMA', rmse, mape, mse]],\n",
        "#                columns = ['Model', 'RMSE', 'MSE', 'MAPE'])\n",
        "# results_VARMA"
      ],
      "metadata": {
        "colab": {
          "base_uri": "https://localhost:8080/"
        },
        "id": "adKONqYu36nI",
        "outputId": "ffb4633c-03b6-40de-e61b-34c5470898a6"
      },
      "execution_count": 21,
      "outputs": [
        {
          "output_type": "stream",
          "name": "stdout",
          "text": [
            "RMSE: 100794.3809\n",
            "MSE: 10159507213.0254\n",
            "MAPE: 254341.1192\n"
          ]
        }
      ]
    }
  ],
  "metadata": {
    "colab": {
      "provenance": []
    },
    "kernelspec": {
      "display_name": "Python 3",
      "name": "python3"
    },
    "language_info": {
      "name": "python"
    }
  },
  "nbformat": 4,
  "nbformat_minor": 0
}